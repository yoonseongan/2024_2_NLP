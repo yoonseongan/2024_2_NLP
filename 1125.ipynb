{
 "cells": [
  {
   "cell_type": "code",
   "execution_count": 2,
   "metadata": {},
   "outputs": [],
   "source": [
    "import pandas as pd"
   ]
  },
  {
   "cell_type": "code",
   "execution_count": 23,
   "metadata": {},
   "outputs": [],
   "source": [
    "def split_reviews_by_quote(file_path, column_index, output_file=None):\n",
    "    \"\"\"\n",
    "    작은 따옴표(')를 기준으로 리뷰를 분리하고 각각 다른 열로 저장하는 함수\n",
    "\n",
    "    Args:\n",
    "        file_path (str): 입력 CSV 파일 경로\n",
    "        column_index (int): 분리할 텍스트가 포함된 열의 인덱스 (0부터 시작)\n",
    "        output_file (str, optional): 결과를 저장할 출력 파일 경로 (기본값: None)\n",
    "    \n",
    "    Returns:\n",
    "        pd.DataFrame: 분리된 리뷰가 포함된 데이터프레임\n",
    "    \"\"\"\n",
    "    # CSV 파일 읽기\n",
    "    df = pd.read_excel(file_path)\n",
    "\n",
    "    df = df.iloc[:,1:]\n",
    "    \n",
    "    # 분리할 열 선택\n",
    "    target_column = df.iloc[:, column_index]\n",
    "    \n",
    "    # 작은 따옴표(')를 기준으로 데이터 분리\n",
    "    split_data = target_column.str.split(\"'\", expand=True)\n",
    "    \n",
    "    # 리뷰만 추출 (홀수 번째 인덱스)\n",
    "    reviews = split_data.iloc[:, 1::2]\n",
    "    \n",
    "    # 열 이름 재설정\n",
    "    reviews.columns = [f\"review_{i+1}\" for i in range(reviews.shape[1])]\n",
    "    \n",
    "    # 기존 데이터와 병합\n",
    "    df = pd.concat([df, reviews], axis=1)\n",
    "    \n",
    "    # 결과를 CSV 파일로 저장 (옵션)\n",
    "    if output_file:\n",
    "        df.to_csv(output_file, index=False)\n",
    "    \n",
    "    return df\n"
   ]
  },
  {
   "cell_type": "code",
   "execution_count": 27,
   "metadata": {},
   "outputs": [],
   "source": [
    "# 예제 사용법\n",
    "result = split_reviews_by_quote(\n",
    "    file_path=\"충주.xlsx\",        # 입력 파일 경로\n",
    "    column_index=3,                  # 분리할 열의 인덱스 (3번째 열이라면 3 입력)\n",
    "    output_file=\"충주_1차_전처리.csv\"    # 결과를 저장할 파일 경로 (필요하지 않다면 None 설정)\n",
    ")\n",
    "\n"
   ]
  },
  {
   "cell_type": "code",
   "execution_count": null,
   "metadata": {},
   "outputs": [],
   "source": []
  }
 ],
 "metadata": {
  "kernelspec": {
   "display_name": "Python 3",
   "language": "python",
   "name": "python3"
  },
  "language_info": {
   "codemirror_mode": {
    "name": "ipython",
    "version": 3
   },
   "file_extension": ".py",
   "mimetype": "text/x-python",
   "name": "python",
   "nbconvert_exporter": "python",
   "pygments_lexer": "ipython3",
   "version": "3.9.5"
  }
 },
 "nbformat": 4,
 "nbformat_minor": 2
}
