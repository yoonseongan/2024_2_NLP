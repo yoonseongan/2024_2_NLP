{
 "cells": [
  {
   "cell_type": "code",
   "execution_count": 1,
   "metadata": {},
   "outputs": [],
   "source": [
    "import pandas as pd\n"
   ]
  },
  {
   "cell_type": "code",
   "execution_count": 52,
   "metadata": {},
   "outputs": [],
   "source": [
    "df = pd.read_csv('충주_1차_전처리.csv')"
   ]
  },
  {
   "cell_type": "code",
   "execution_count": 53,
   "metadata": {},
   "outputs": [],
   "source": [
    "def melt_reviews_with_location(df, location_column=\"0\", review_prefix=\"review\"):\n",
    "    \"\"\"\n",
    "    장소 정보를 포함해 리뷰 데이터를 melt로 변환하는 함수\n",
    "    \n",
    "    Args:\n",
    "        df (pd.DataFrame): 원본 데이터프레임\n",
    "        location_column (str): 장소 정보가 포함된 열 이름\n",
    "        review_prefix (str): 리뷰 열의 접두사 (기본값: \"review\")\n",
    "    \n",
    "    Returns:\n",
    "        pd.DataFrame: melt로 변환된 데이터프레임\n",
    "    \"\"\"\n",
    "    # 리뷰 열 선택\n",
    "    review_columns = [col for col in df.columns if col.startswith(review_prefix)]\n",
    "    \n",
    "    # Melt 변환\n",
    "    df_melted = df.melt(\n",
    "        id_vars=[location_column],  # 장소 정보 열 유지\n",
    "        value_vars=review_columns,  # 리뷰 열만 선택\n",
    "        var_name=\"review_type\",  # 변환된 리뷰 열 이름\n",
    "        value_name=\"review\"      # 리뷰 내용 열 이름\n",
    "    )\n",
    "    \n",
    "    # NaN 제거 (빈 리뷰 제거)\n",
    "    df_melted = df_melted.dropna(subset=[\"review\"]).reset_index(drop=True)\n",
    "    \n",
    "    return df_melted"
   ]
  },
  {
   "cell_type": "code",
   "execution_count": 54,
   "metadata": {},
   "outputs": [
    {
     "name": "stdout",
     "output_type": "stream",
     "text": [
      "         0 review_type                                             review\n",
      "0     활옥동굴    review_1  한여름   그러나 그안은  한 가을  ㅎㅎ나가기 싫었어요  시원  재미  흥미  사...\n",
      "1     수주팔봉    review_1             국토종주중...경치 좋은  곳이 넘 많아요.쉬엄쉬엄 구경하고 가요~~\n",
      "2  수안보온천랜드    review_1  탕이 딱 차가운 거, 뜨거운 거, 중간이 있어 좋고, 온수가 안 나와서 시원하게 목...\n",
      "3      탄금대    review_1  둘레길맨발  걷기 ,  세족장  , 신발장  별도로 있어요70분 정도면  다 돌아볼...\n",
      "4     능암온천    review_1                            탄산온천으로는 끝내 줌. 청소상태는 불량.\n"
     ]
    }
   ],
   "source": [
    "# 함수 실행 예시\n",
    "result = melt_reviews_with_location(df)\n",
    "\n",
    "# 결과 확인\n",
    "print(result.head())"
   ]
  },
  {
   "cell_type": "code",
   "execution_count": 55,
   "metadata": {},
   "outputs": [
    {
     "name": "stdout",
     "output_type": "stream",
     "text": [
      "            0 review_type                                             review\n",
      "0         가섭산    review_1                                   가섭사에서 바라본 조망이 훌륭\n",
      "1  건지마을 풍경포인트    review_2                                               고백맛집\n",
      "2  건지마을 풍경포인트    review_1  충주댐에 들렸다가 내비보고 간곳이 아니라 문듯 산을 바라보다가 예쁘다하고 올라가보니...\n",
      "3         계명산    review_1  ⛰️충북 충주 계명산(명산100+) 계명산자연휴양림 최단코스 블랙야크BAC🗓등산일자...\n",
      "4         계명산    review_3                                                초딩때\n"
     ]
    }
   ],
   "source": [
    "# 0열 기준으로 정렬\n",
    "result_sorted = result.sort_values(by=[\"0\"]).reset_index(drop=True)\n",
    "\n",
    "# 결과 확인\n",
    "print(result_sorted.head())"
   ]
  },
  {
   "cell_type": "code",
   "execution_count": 56,
   "metadata": {},
   "outputs": [
    {
     "name": "stdout",
     "output_type": "stream",
     "text": [
      "<class 'pandas.core.frame.DataFrame'>\n",
      "RangeIndex: 473 entries, 0 to 472\n",
      "Data columns (total 3 columns):\n",
      " #   Column       Non-Null Count  Dtype \n",
      "---  ------       --------------  ----- \n",
      " 0   0            473 non-null    object\n",
      " 1   review_type  473 non-null    object\n",
      " 2   review       473 non-null    object\n",
      "dtypes: object(3)\n",
      "memory usage: 11.2+ KB\n"
     ]
    }
   ],
   "source": [
    "result_sorted.info()"
   ]
  },
  {
   "cell_type": "code",
   "execution_count": 57,
   "metadata": {},
   "outputs": [
    {
     "name": "stdout",
     "output_type": "stream",
     "text": [
      "            0                                             review\n",
      "0         가섭산                                   가섭사에서 바라본 조망이 훌륭\n",
      "1  건지마을 풍경포인트                                               고백맛집\n",
      "2  건지마을 풍경포인트  충주댐에 들렸다가 내비보고 간곳이 아니라 문듯 산을 바라보다가 예쁘다하고 올라가보니...\n",
      "3         계명산  ⛰️충북 충주 계명산(명산100+) 계명산자연휴양림 최단코스 블랙야크BAC🗓등산일자...\n",
      "4         계명산                                                초딩때\n"
     ]
    }
   ],
   "source": [
    "# review_type 열 삭제\n",
    "result_final = result_sorted.drop(columns=[\"review_type\"])\n",
    "\n",
    "# 결과 확인\n",
    "print(result_final.head())"
   ]
  },
  {
   "cell_type": "code",
   "execution_count": 58,
   "metadata": {},
   "outputs": [
    {
     "name": "stdout",
     "output_type": "stream",
     "text": [
      "            0                                             review\n",
      "0         가섭산                                   가섭사에서 바라본 조망이 훌륭\n",
      "1  건지마을 풍경포인트                                               고백맛집\n",
      "2  건지마을 풍경포인트  충주댐에 들렸다가 내비보고 간곳이 아니라 문듯 산을 바라보다가 예쁘다하고 올라가보니...\n",
      "3         계명산  ⛰️충북 충주 계명산(명산100+) 계명산자연휴양림 최단코스 블랙야크BAC🗓등산일자...\n",
      "4         계명산                                                초딩때\n"
     ]
    }
   ],
   "source": [
    "# 리뷰가 없는 데이터 (NaN 또는 빈 문자열) 삭제\n",
    "result_cleaned = result_final[result_final[\"review\"].notna()]  # NaN 제거\n",
    "result_cleaned = result_cleaned[result_cleaned[\"review\"].str.strip() != \"\"]  # 빈 문자열 제거\n",
    "\n",
    "# 결과 확인\n",
    "print(result_cleaned.head())"
   ]
  },
  {
   "cell_type": "code",
   "execution_count": 59,
   "metadata": {},
   "outputs": [
    {
     "name": "stdout",
     "output_type": "stream",
     "text": [
      "<class 'pandas.core.frame.DataFrame'>\n",
      "Index: 471 entries, 0 to 472\n",
      "Data columns (total 2 columns):\n",
      " #   Column  Non-Null Count  Dtype \n",
      "---  ------  --------------  ----- \n",
      " 0   0       471 non-null    object\n",
      " 1   review  471 non-null    object\n",
      "dtypes: object(2)\n",
      "memory usage: 11.0+ KB\n"
     ]
    }
   ],
   "source": [
    "result_cleaned.info()"
   ]
  },
  {
   "cell_type": "code",
   "execution_count": 60,
   "metadata": {},
   "outputs": [],
   "source": [
    "# 결과 저장 (선택 사항)\n",
    "result_cleaned.to_csv(\"충주리뷰멜트.csv\",encoding='UTF-8-sig', index=False)"
   ]
  },
  {
   "cell_type": "code",
   "execution_count": null,
   "metadata": {},
   "outputs": [],
   "source": []
  }
 ],
 "metadata": {
  "kernelspec": {
   "display_name": "Python 3",
   "language": "python",
   "name": "python3"
  },
  "language_info": {
   "codemirror_mode": {
    "name": "ipython",
    "version": 3
   },
   "file_extension": ".py",
   "mimetype": "text/x-python",
   "name": "python",
   "nbconvert_exporter": "python",
   "pygments_lexer": "ipython3",
   "version": "3.9.5"
  }
 },
 "nbformat": 4,
 "nbformat_minor": 2
}
