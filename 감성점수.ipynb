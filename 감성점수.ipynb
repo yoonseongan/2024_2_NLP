{
 "cells": [
  {
   "cell_type": "code",
   "execution_count": 8,
   "metadata": {},
   "outputs": [],
   "source": [
    "import pandas as pd\n",
    "from scipy.stats import ttest_ind\n",
    "\n",
    "def analyze_multiple_cities(file_paths, sentiment_col='sentiment', city_col='city_name'):\n",
    "    \"\"\"\n",
    "    여러 도시 파일에서 긍정 비율을 계산하고 도시별 데이터를 통합하여 반환하는 함수.\n",
    "\n",
    "    Parameters:\n",
    "    - file_paths (dict): 파일 경로와 도시 이름의 딕셔너리, 예: {\"도시A\": \"city_a.csv\", \"도시B\": \"city_b.csv\"}\n",
    "    - sentiment_col (str): 긍정/부정 값이 있는 열 이름 (기본값: 'sentiment')\n",
    "    - city_col (str): 통합 데이터프레임에 도시명을 저장할 열 이름 (기본값: 'city_name')\n",
    "\n",
    "    Returns:\n",
    "    - combined_df (pd.DataFrame): 통합된 데이터프레임 (도시별 긍정 비율 포함)\n",
    "    - summary (pd.DataFrame): 각 도시별 긍정 리뷰 수, 전체 리뷰 수, 긍정 비율 데이터프레임\n",
    "    \"\"\"\n",
    "    city_data = []\n",
    "\n",
    "    for city, file_path in file_paths.items():\n",
    "        df = pd.read_csv(file_path)\n",
    "        df[sentiment_col] = df[sentiment_col].map({'긍정적': 1, '부정적': 0})\n",
    "        df[city_col] = city\n",
    "        city_data.append(df)\n",
    "\n",
    "    # 통합 데이터프레임 생성\n",
    "    combined_df = pd.concat(city_data, ignore_index=True)\n",
    "\n",
    "    # 도시별 긍정 비율 계산\n",
    "    summary = combined_df.groupby(city_col)[sentiment_col].agg(['sum', 'count'])\n",
    "    summary.rename(columns={'sum': '긍정 리뷰 수', 'count': '전체 리뷰 수'}, inplace=True)\n",
    "    summary['긍정 비율 (%)'] = (summary['긍정 리뷰 수'] / summary['전체 리뷰 수']) * 100\n",
    "\n",
    "    return combined_df, summary\n",
    "\n"
   ]
  },
  {
   "cell_type": "code",
   "execution_count": 10,
   "metadata": {},
   "outputs": [
    {
     "name": "stdout",
     "output_type": "stream",
     "text": [
      "도시별 긍정 비율 요약:\n",
      "           긍정 리뷰 수  전체 리뷰 수  긍정 비율 (%)\n",
      "city_name                             \n",
      "강릉시            963     1343  71.705138\n",
      "경주시           1360     1891  71.919619\n",
      "당진시            171      271  63.099631\n",
      "충주시            276      460  60.000000\n",
      "\n",
      "Welch's T-검정 결과:\n",
      "t-통계량: 5.4225, p-값: 0.0000\n",
      "\n",
      "결론: 경주시와 강릉시의 긍정 비율이 당진시와 충주시보다 통계적으로 유의미하게 높다.\n"
     ]
    }
   ],
   "source": [
    "# 도시 파일 경로 설정\n",
    "file_paths = {\n",
    "    \"경주시\": \"경주데이터\\경주_with_sentiment.csv\",\n",
    "    \"강릉시\": \"강릉데이터\\강릉_with_sentiment.csv\",\n",
    "    \"당진시\": \"당진데이터\\당진_with_sentiment.csv\",\n",
    "    \"충주시\": \"충주데이터\\충주_with_sentiment.csv\"\n",
    "}\n",
    "\n",
    "# 데이터 분석\n",
    "combined_df, summary = analyze_multiple_cities(file_paths)\n",
    "\n",
    "# 그룹 나누기: 경주시와 강릉시 vs 당진시와 충주시\n",
    "group_1 = combined_df[combined_df['city_name'].isin(['경주시', '강릉시'])]['sentiment']\n",
    "group_2 = combined_df[combined_df['city_name'].isin(['당진시', '충주시'])]['sentiment']\n",
    "\n",
    "# t-검정 수행\n",
    "t_stat, p_value = ttest_ind(group_1, group_2, equal_var=False)\n",
    "\n",
    "# 결과 출력\n",
    "print(\"도시별 긍정 비율 요약:\")\n",
    "print(summary)\n",
    "\n",
    "print(\"\\nWelch's T-검정 결과:\")\n",
    "print(f\"t-통계량: {t_stat:.4f}, p-값: {p_value:.4f}\")\n",
    "\n",
    "# 결과 해석\n",
    "if p_value < 0.05:\n",
    "    print(\"\\n결론: 경주시와 강릉시의 긍정 비율이 당진시와 충주시보다 통계적으로 유의미하게 높다.\")\n",
    "else:\n",
    "    print(\"\\n결론: 경주시와 강릉시의 긍정 비율이 당진시와 충주시보다 유의미하게 높지 않다.\")"
   ]
  },
  {
   "cell_type": "code",
   "execution_count": null,
   "metadata": {},
   "outputs": [],
   "source": []
  }
 ],
 "metadata": {
  "kernelspec": {
   "display_name": "Python 3",
   "language": "python",
   "name": "python3"
  },
  "language_info": {
   "codemirror_mode": {
    "name": "ipython",
    "version": 3
   },
   "file_extension": ".py",
   "mimetype": "text/x-python",
   "name": "python",
   "nbconvert_exporter": "python",
   "pygments_lexer": "ipython3",
   "version": "3.9.5"
  }
 },
 "nbformat": 4,
 "nbformat_minor": 2
}
