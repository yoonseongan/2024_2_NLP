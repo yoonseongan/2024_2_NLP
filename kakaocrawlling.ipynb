{
 "cells": [
  {
   "cell_type": "code",
   "execution_count": 31,
   "metadata": {},
   "outputs": [],
   "source": [
    "from selenium import webdriver  # 동적크롤링\n",
    "from webdriver_manager.chrome import ChromeDriverManager\n",
    "from selenium.webdriver.common.keys import Keys\n",
    "from selenium.webdriver.common.by import By\n",
    "from bs4 import BeautifulSoup"
   ]
  },
  {
   "cell_type": "code",
   "execution_count": 32,
   "metadata": {},
   "outputs": [],
   "source": [
    "import time\n",
    "\n",
    "import warnings\n",
    "warnings.filterwarnings('ignore')"
   ]
  },
  {
   "cell_type": "code",
   "execution_count": 65,
   "metadata": {},
   "outputs": [],
   "source": [
    "driver = webdriver.Chrome() "
   ]
  },
  {
   "cell_type": "code",
   "execution_count": 66,
   "metadata": {},
   "outputs": [],
   "source": [
    "url = \"https://map.kakao.com/\"\n",
    "driver.get(url)"
   ]
  },
  {
   "cell_type": "code",
   "execution_count": 67,
   "metadata": {},
   "outputs": [],
   "source": [
    "searchloc = '충주'\n",
    "\n",
    "search_area = driver.find_element(By.XPATH, r'//*[@id=\"search.keyword.query\"]') # 카카오맵 검색창\n",
    "search_area.send_keys(searchloc)  # 검색어 전달\n",
    "driver.find_element(By.XPATH, r'//*[@id=\"search.keyword.submit\"]').send_keys(Keys.ENTER)  # 돋보기 클릭\n",
    "\n",
    "time.sleep(5)\n",
    "\n",
    "driver.find_element(By.XPATH, r'//*[@id=\"info.main.options\"]/li[2]/a').send_keys(Keys.ENTER)  # 장소 탭"
   ]
  },
  {
   "cell_type": "code",
   "execution_count": 68,
   "metadata": {},
   "outputs": [],
   "source": [
    "rv_list = []  # 정보 저장"
   ]
  },
  {
   "cell_type": "code",
   "execution_count": 69,
   "metadata": {},
   "outputs": [],
   "source": [
    "def rvNamePrint():\n",
    "    time.sleep(0.2)\n",
    "    \n",
    "    html = driver.page_source\n",
    "    soup = BeautifulSoup(html, 'html.parser')\n",
    "    \n",
    "    rv_lists = soup.select('.placelist > .PlaceItem') # 장소 정보를 모두 가져옴\n",
    "    for i, room in enumerate(rv_lists):\n",
    "        temp = []\n",
    "        \n",
    "        name = room.select('.head_item > .tit_name > .link_name')[0].text\n",
    "        score = room.select('.rating > .score > em')[0].text\n",
    "        addr = room.select('.addr > p')[0].text\n",
    "        \n",
    "        # 상세정보 탭으로 이동\n",
    "        driver.find_element(By.XPATH, r'//*[@id=\"info.search.place.list\"]/li['+str(i+1)+']/div[5]/div[4]/a[1]').send_keys(Keys.ENTER)\n",
    "        driver.switch_to.window(driver.window_handles[-1])\n",
    "        time.sleep(2)\n",
    "        \n",
    "        #driver.find_element(By.XPATH, r'//*[@id=\"mArticle\"]/div[6]/div[3]/a/span[1]').send_keys(Keys.ENTER) #후기더보기\n",
    "        #driver.find_element(By.XPATH, r'//*[@id=\"mArticle\"]/div[7]/div[3]/a').send_keys(Keys.ENTER)\n",
    "        \n",
    "        #driver.find_element(By.XPATH, r'//*[@id=\"mArticle\"]/div[6]/div[3]/a/span[1]').send_keys(Keys.ENTER)\n",
    "\n",
    "        rev = extract_review()  # 리뷰 추출 함수 실행\n",
    "        \n",
    "        \n",
    "        # 하나의 리스트로 만들어 rv_list에 추가\n",
    "        temp.append(name)\n",
    "        temp.append(score)\n",
    "        temp.append(addr[3:])\n",
    "        temp.append(rev)\n",
    "        \n",
    "        rv_list.append(temp)"
   ]
  },
  {
   "cell_type": "code",
   "execution_count": 70,
   "metadata": {},
   "outputs": [],
   "source": [
    "#new\n",
    "def extract_review():\n",
    "    # 후기 더보기 버튼을 클릭하는 루프\n",
    "    while True:\n",
    "        try:\n",
    "            # 후기 더보기 버튼의 XPATH 경로로 찾기//*[@id=\"mArticle\"]/div[8]/div[3]/a\n",
    "            #more_button = driver.find_element(By.XPATH, r'//*[@id=\"mArticle\"]/div[8]/div[3]/a/span[1]')\n",
    "            more_button = driver.find_element(By.LINK_TEXT, \"후기 더보기\")\n",
    "            if '후기 접기' in more_button.text: # 마지막 후기 더보기 클릭 후 후기 접기를 계속 클릭하는 현상 발견\n",
    "                break\n",
    "            \n",
    "            #time.sleep(2)\n",
    "            more_button.click()  # 클릭\n",
    "            time.sleep(2)  # 페이지 로딩 대기\n",
    "        except Exception as e:\n",
    "            # 더보기 버튼이 없거나 클릭 실패 시 종료\n",
    "            print(\"NEXT PLACE\", e)\n",
    "            break\n",
    "\n",
    "    # 페이지 소스를 가져와서 파싱\n",
    "    html = driver.page_source\n",
    "    soup = BeautifulSoup(html, 'html.parser')\n",
    "    \n",
    "    # 후기 목록 찾기\n",
    "    review_lists = soup.select('.list_evaluation > li')\n",
    "    rev = []\n",
    "    \n",
    "    # 리뷰가 있는 경우\n",
    "    if len(review_lists) != 0:\n",
    "        for review in review_lists:\n",
    "            comment = review.select('.txt_comment > span')[0].text  # 리뷰\n",
    "            if len(comment) != 0:\n",
    "                rev.append(comment)\n",
    "    # 없으면 빈칸 추가\n",
    "    else:\n",
    "        rev.append(' ')\n",
    "        \n",
    "    # 다시 검색 탭으로 전환\n",
    "    driver.close()\n",
    "    driver.switch_to.window(driver.window_handles[0])\n",
    "    time.sleep(2)\n",
    "    \n",
    "    return rev\n"
   ]
  },
  {
   "cell_type": "code",
   "execution_count": 71,
   "metadata": {},
   "outputs": [
    {
     "name": "stdout",
     "output_type": "stream",
     "text": [
      "1 page\n",
      "NEXT PLACE Message: no such element: Unable to locate element: {\"method\":\"link text\",\"selector\":\"후기 더보기\"}\n",
      "  (Session info: chrome=128.0.6613.138); For documentation on this error, please visit: https://www.selenium.dev/documentation/webdriver/troubleshooting/errors#no-such-element-exception\n",
      "Stacktrace:\n",
      "\tGetHandleVerifier [0x00007FF6DEF79412+29090]\n",
      "\t(No symbol) [0x00007FF6DEEEE239]\n",
      "\t(No symbol) [0x00007FF6DEDAB1DA]\n",
      "\t(No symbol) [0x00007FF6DEDFEFE7]\n",
      "\t(No symbol) [0x00007FF6DEDFF23C]\n",
      "\t(No symbol) [0x00007FF6DEE497C7]\n",
      "\t(No symbol) [0x00007FF6DEE2672F]\n",
      "\t(No symbol) [0x00007FF6DEE465A2]\n",
      "\t(No symbol) [0x00007FF6DEE26493]\n",
      "\t(No symbol) [0x00007FF6DEDF09D1]\n",
      "\t(No symbol) [0x00007FF6DEDF1B31]\n",
      "\tGetHandleVerifier [0x00007FF6DF29871D+3302573]\n",
      "\tGetHandleVerifier [0x00007FF6DF2E4243+3612627]\n",
      "\tGetHandleVerifier [0x00007FF6DF2DA417+3572135]\n",
      "\tGetHandleVerifier [0x00007FF6DF035EB6+801862]\n",
      "\t(No symbol) [0x00007FF6DEEF945F]\n",
      "\t(No symbol) [0x00007FF6DEEF4FB4]\n",
      "\t(No symbol) [0x00007FF6DEEF5140]\n",
      "\t(No symbol) [0x00007FF6DEEE461F]\n",
      "\tBaseThreadInitThunk [0x00007FF8A4467374+20]\n",
      "\tRtlUserThreadStart [0x00007FF8A473CC91+33]\n",
      "\n",
      "크롤링 완료\n"
     ]
    }
   ],
   "source": [
    "page = 1  # 현재 페이지\n",
    "page2 = 1  # 5개 중 몇번째인지(버튼이 5개씩있어서 6번째가 되면 다시 1로 바꿔줘야함)\n",
    "\n",
    "\n",
    "for i in range(1, 9):\n",
    "    try:\n",
    "        page2 += 1\n",
    "        print(page, 'page')\n",
    "        \n",
    "        # 페이지 버튼 번호(1에서 5 사이 값)\n",
    "        if i > 5:\n",
    "            xpath = '/html/body/div[5]/div[2]/div[1]/div[7]/div[6]/div/a['+str(i-5)+']'\n",
    "        else:\n",
    "            xpath = '/html/body/div[5]/div[2]/div[1]/div[7]/div[6]/div/a['+str(i)+']'\n",
    "        \n",
    "        driver.find_element(By.XPATH, xpath).send_keys(Keys.ENTER)  # 페이지 선택\n",
    "        \n",
    "        rvNamePrint()  #  정보 크롤링\n",
    "        \n",
    "        \n",
    "        # page2가 5를 넘어가면 다시 1로 바꿔주고 다음 버튼 클릭\n",
    "        if page2 > 5:\n",
    "            page2 = 1\n",
    "            driver.find_element(By.XPATH, r'//* [@id=\"info.search.page.next\"]').send_keys(Keys.ENTER)\n",
    "        \n",
    "        page += 1\n",
    "    \n",
    "    except:\n",
    "        break\n",
    "        \n",
    "print('크롤링 완료')"
   ]
  },
  {
   "cell_type": "code",
   "execution_count": 64,
   "metadata": {},
   "outputs": [
    {
     "data": {
      "text/plain": [
       "[['활옥동굴', '3.8', '충주시 목벌안길 26', []],\n",
       " ['수주팔봉', '4.2', '충주시 살미면 토계리', ['국토종주중...경치 좋은  곳이 넘 많아요.쉬엄쉬엄 구경하고 가요~~']],\n",
       " ['수안보온천랜드',\n",
       "  '2.8',\n",
       "  '충주시 수안보면 주정산로 32',\n",
       "  ['탕이 딱 차가운 거, 뜨거운 거, 중간이 있어 좋고, 온수가 안 나와서 시원하게 목욕 했습니다.']]]"
      ]
     },
     "execution_count": 64,
     "metadata": {},
     "output_type": "execute_result"
    }
   ],
   "source": [
    "rv_list"
   ]
  },
  {
   "cell_type": "code",
   "execution_count": 41,
   "metadata": {},
   "outputs": [],
   "source": [
    "import pandas as pd\n",
    "import numpy as np\n",
    "\n",
    "df = pd.DataFrame.from_records(rv_list)\n",
    "df.to_excel('test4.xlsx')"
   ]
  },
  {
   "cell_type": "code",
   "execution_count": null,
   "metadata": {},
   "outputs": [],
   "source": [
    "def extract_review():\n",
    "    html = driver.page_source\n",
    "    soup = BeautifulSoup(html, 'html.parser')\n",
    "    \n",
    "    # 후기 목록 찾기\n",
    "    review_lists = soup.select('.list_evaluation > li')\n",
    "    #driver.find_element(By.XPATH, r'//*[@id=\"mArticle\"]/div[6]/div[3]/a/span[1]').send_keys(Keys.ENTER)\n",
    "    count = 0\n",
    "    rev = []\n",
    "    # 리뷰가 있는 경우\n",
    "    if len(review_lists) != 0:\n",
    "        for review in review_lists:\n",
    "            comment = review.select('.txt_comment > span')[0].text  # 리뷰\n",
    "            if len(comment) != 0:\n",
    "                rev.append(comment)\n",
    "    # 없으면 빈칸 추가\n",
    "    else:\n",
    "        rev.append(' ')\n",
    "        \n",
    "    \n",
    "    # 다시 검색 탭으로 전환\n",
    "    driver.close()\n",
    "    driver.switch_to.window(driver.window_handles[0])\n",
    "    time.sleep(2)\n",
    "    \n",
    "    return rev"
   ]
  }
 ],
 "metadata": {
  "kernelspec": {
   "display_name": "Python 3",
   "language": "python",
   "name": "python3"
  },
  "language_info": {
   "codemirror_mode": {
    "name": "ipython",
    "version": 3
   },
   "file_extension": ".py",
   "mimetype": "text/x-python",
   "name": "python",
   "nbconvert_exporter": "python",
   "pygments_lexer": "ipython3",
   "version": "3.9.5"
  }
 },
 "nbformat": 4,
 "nbformat_minor": 2
}
