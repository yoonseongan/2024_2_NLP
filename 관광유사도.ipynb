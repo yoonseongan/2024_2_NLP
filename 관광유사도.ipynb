{
 "cells": [
  {
   "cell_type": "code",
   "execution_count": 4,
   "id": "initial_id",
   "metadata": {
    "collapsed": true,
    "ExecuteTime": {
     "end_time": "2024-08-24T04:33:54.768787400Z",
     "start_time": "2024-08-24T04:33:54.746807500Z"
    }
   },
   "outputs": [
    {
     "name": "stdout",
     "output_type": "stream",
     "text": [
      "   SGGCD SGG_NM  관광소비  목적지 검색량  방문자유입  숙박방문자 비율  체류시간\n",
      "0  43130    충주시    97       72    134        78    22\n",
      "1  43150    제천시   151      104    168       114    30\n",
      "2  43720    보은군   214      214    227       230   185\n",
      "3  43730    옥천군   215      222    185       214   221\n",
      "4  43740    영동군   238      236    224       218    45\n",
      "데이터 구조 변환이 완료되었습니다.\n"
     ]
    }
   ],
   "source": [
    "import pandas as pd\n",
    "\n",
    "# CSV 파일을 불러옵니다. (파일 경로를 올바르게 설정하세요)\n",
    "df = pd.read_csv('./관광유사도/tourism_data.csv')\n",
    "\n",
    "# 피벗 테이블을 사용하여 데이터 구조를 변경합니다.\n",
    "df_pivot = df.pivot_table(\n",
    "    index=['SGGCD', 'SGG_NM'],  # 인덱스는 'SGGCD'와 'SGG_NM'으로 설정합니다.\n",
    "    columns='TURSM_DNS_DIV_NM',  # 'TURSM_DNS_DIV_NM'이 열로 변환됩니다.\n",
    "    values='TURSM_DNS_DIV_VAL2',  # 'TURSM_DNS_DIV_VAL2' 값이 테이블 내 값이 됩니다.\n",
    "    aggfunc='first'  # 중복된 항목이 없으므로 첫 번째 값을 사용합니다.\n",
    ")\n",
    "\n",
    "# 열 이름을 알맞게 변경합니다.\n",
    "df_pivot.columns.name = None  # 기존 열 이름 그룹화를 해제합니다.\n",
    "df_pivot.reset_index(inplace=True)  # 인덱스를 다시 열로 변환합니다.\n",
    "\n",
    "print(df_pivot.head())\n",
    "# 결과를 CSV 파일로 저장합니다.\n",
    "df_pivot.to_csv('./관광유사도/tourism_data_transformed.csv', index=False, encoding='utf-8')\n",
    "# \n",
    "print(\"데이터 구조 변환이 완료되었습니다.\")\n"
   ]
  },
  {
   "cell_type": "code",
   "execution_count": 9,
   "outputs": [
    {
     "data": {
      "text/plain": "   SGGCD SGG_NM  관광소비  목적지 검색량  방문자유입  숙박방문자 비율  체류시간\n0  43130    충주시    97       72    134        78    22\n1  43150    제천시   151      104    168       114    30\n2  43720    보은군   214      214    227       230   185\n3  43730    옥천군   215      222    185       214   221\n4  43740    영동군   238      236    224       218    45",
      "text/html": "<div>\n<style scoped>\n    .dataframe tbody tr th:only-of-type {\n        vertical-align: middle;\n    }\n\n    .dataframe tbody tr th {\n        vertical-align: top;\n    }\n\n    .dataframe thead th {\n        text-align: right;\n    }\n</style>\n<table border=\"1\" class=\"dataframe\">\n  <thead>\n    <tr style=\"text-align: right;\">\n      <th></th>\n      <th>SGGCD</th>\n      <th>SGG_NM</th>\n      <th>관광소비</th>\n      <th>목적지 검색량</th>\n      <th>방문자유입</th>\n      <th>숙박방문자 비율</th>\n      <th>체류시간</th>\n    </tr>\n  </thead>\n  <tbody>\n    <tr>\n      <th>0</th>\n      <td>43130</td>\n      <td>충주시</td>\n      <td>97</td>\n      <td>72</td>\n      <td>134</td>\n      <td>78</td>\n      <td>22</td>\n    </tr>\n    <tr>\n      <th>1</th>\n      <td>43150</td>\n      <td>제천시</td>\n      <td>151</td>\n      <td>104</td>\n      <td>168</td>\n      <td>114</td>\n      <td>30</td>\n    </tr>\n    <tr>\n      <th>2</th>\n      <td>43720</td>\n      <td>보은군</td>\n      <td>214</td>\n      <td>214</td>\n      <td>227</td>\n      <td>230</td>\n      <td>185</td>\n    </tr>\n    <tr>\n      <th>3</th>\n      <td>43730</td>\n      <td>옥천군</td>\n      <td>215</td>\n      <td>222</td>\n      <td>185</td>\n      <td>214</td>\n      <td>221</td>\n    </tr>\n    <tr>\n      <th>4</th>\n      <td>43740</td>\n      <td>영동군</td>\n      <td>238</td>\n      <td>236</td>\n      <td>224</td>\n      <td>218</td>\n      <td>45</td>\n    </tr>\n  </tbody>\n</table>\n</div>"
     },
     "execution_count": 9,
     "metadata": {},
     "output_type": "execute_result"
    }
   ],
   "source": [
    "import pandas as pd\n",
    "\n",
    "file_path = './관광유사도/관광유사도.csv'\n",
    "df = pd.read_csv(file_path)\n",
    "\n",
    "df.head()"
   ],
   "metadata": {
    "collapsed": false,
    "ExecuteTime": {
     "end_time": "2024-08-24T05:52:40.365454900Z",
     "start_time": "2024-08-24T05:52:40.343454400Z"
    }
   },
   "id": "8cd8a8a4eb75c692"
  },
  {
   "cell_type": "code",
   "execution_count": 19,
   "outputs": [
    {
     "data": {
      "application/vnd.plotly.v1+json": {
       "data": [
        {
         "coloraxis": "coloraxis",
         "name": "0",
         "texttemplate": "%{z}",
         "x": [
          "아산시",
          "당진시",
          "충주시",
          "보령시",
          "서산시"
         ],
         "y": [
          "강릉시"
         ],
         "z": [
          [
           0.980146621304931,
           0.9720758188965747,
           0.9640244401424316,
           0.8448808210620506,
           0.8444431618132293
          ]
         ],
         "type": "heatmap",
         "xaxis": "x",
         "yaxis": "y",
         "hovertemplate": "유사한 지역: %{x}<br>기준 지역: %{y}<br>유사도: %{z}<extra></extra>"
        }
       ],
       "layout": {
        "template": {
         "data": {
          "histogram2dcontour": [
           {
            "type": "histogram2dcontour",
            "colorbar": {
             "outlinewidth": 0,
             "ticks": ""
            },
            "colorscale": [
             [
              0.0,
              "#0d0887"
             ],
             [
              0.1111111111111111,
              "#46039f"
             ],
             [
              0.2222222222222222,
              "#7201a8"
             ],
             [
              0.3333333333333333,
              "#9c179e"
             ],
             [
              0.4444444444444444,
              "#bd3786"
             ],
             [
              0.5555555555555556,
              "#d8576b"
             ],
             [
              0.6666666666666666,
              "#ed7953"
             ],
             [
              0.7777777777777778,
              "#fb9f3a"
             ],
             [
              0.8888888888888888,
              "#fdca26"
             ],
             [
              1.0,
              "#f0f921"
             ]
            ]
           }
          ],
          "choropleth": [
           {
            "type": "choropleth",
            "colorbar": {
             "outlinewidth": 0,
             "ticks": ""
            }
           }
          ],
          "histogram2d": [
           {
            "type": "histogram2d",
            "colorbar": {
             "outlinewidth": 0,
             "ticks": ""
            },
            "colorscale": [
             [
              0.0,
              "#0d0887"
             ],
             [
              0.1111111111111111,
              "#46039f"
             ],
             [
              0.2222222222222222,
              "#7201a8"
             ],
             [
              0.3333333333333333,
              "#9c179e"
             ],
             [
              0.4444444444444444,
              "#bd3786"
             ],
             [
              0.5555555555555556,
              "#d8576b"
             ],
             [
              0.6666666666666666,
              "#ed7953"
             ],
             [
              0.7777777777777778,
              "#fb9f3a"
             ],
             [
              0.8888888888888888,
              "#fdca26"
             ],
             [
              1.0,
              "#f0f921"
             ]
            ]
           }
          ],
          "heatmap": [
           {
            "type": "heatmap",
            "colorbar": {
             "outlinewidth": 0,
             "ticks": ""
            },
            "colorscale": [
             [
              0.0,
              "#0d0887"
             ],
             [
              0.1111111111111111,
              "#46039f"
             ],
             [
              0.2222222222222222,
              "#7201a8"
             ],
             [
              0.3333333333333333,
              "#9c179e"
             ],
             [
              0.4444444444444444,
              "#bd3786"
             ],
             [
              0.5555555555555556,
              "#d8576b"
             ],
             [
              0.6666666666666666,
              "#ed7953"
             ],
             [
              0.7777777777777778,
              "#fb9f3a"
             ],
             [
              0.8888888888888888,
              "#fdca26"
             ],
             [
              1.0,
              "#f0f921"
             ]
            ]
           }
          ],
          "heatmapgl": [
           {
            "type": "heatmapgl",
            "colorbar": {
             "outlinewidth": 0,
             "ticks": ""
            },
            "colorscale": [
             [
              0.0,
              "#0d0887"
             ],
             [
              0.1111111111111111,
              "#46039f"
             ],
             [
              0.2222222222222222,
              "#7201a8"
             ],
             [
              0.3333333333333333,
              "#9c179e"
             ],
             [
              0.4444444444444444,
              "#bd3786"
             ],
             [
              0.5555555555555556,
              "#d8576b"
             ],
             [
              0.6666666666666666,
              "#ed7953"
             ],
             [
              0.7777777777777778,
              "#fb9f3a"
             ],
             [
              0.8888888888888888,
              "#fdca26"
             ],
             [
              1.0,
              "#f0f921"
             ]
            ]
           }
          ],
          "contourcarpet": [
           {
            "type": "contourcarpet",
            "colorbar": {
             "outlinewidth": 0,
             "ticks": ""
            }
           }
          ],
          "contour": [
           {
            "type": "contour",
            "colorbar": {
             "outlinewidth": 0,
             "ticks": ""
            },
            "colorscale": [
             [
              0.0,
              "#0d0887"
             ],
             [
              0.1111111111111111,
              "#46039f"
             ],
             [
              0.2222222222222222,
              "#7201a8"
             ],
             [
              0.3333333333333333,
              "#9c179e"
             ],
             [
              0.4444444444444444,
              "#bd3786"
             ],
             [
              0.5555555555555556,
              "#d8576b"
             ],
             [
              0.6666666666666666,
              "#ed7953"
             ],
             [
              0.7777777777777778,
              "#fb9f3a"
             ],
             [
              0.8888888888888888,
              "#fdca26"
             ],
             [
              1.0,
              "#f0f921"
             ]
            ]
           }
          ],
          "surface": [
           {
            "type": "surface",
            "colorbar": {
             "outlinewidth": 0,
             "ticks": ""
            },
            "colorscale": [
             [
              0.0,
              "#0d0887"
             ],
             [
              0.1111111111111111,
              "#46039f"
             ],
             [
              0.2222222222222222,
              "#7201a8"
             ],
             [
              0.3333333333333333,
              "#9c179e"
             ],
             [
              0.4444444444444444,
              "#bd3786"
             ],
             [
              0.5555555555555556,
              "#d8576b"
             ],
             [
              0.6666666666666666,
              "#ed7953"
             ],
             [
              0.7777777777777778,
              "#fb9f3a"
             ],
             [
              0.8888888888888888,
              "#fdca26"
             ],
             [
              1.0,
              "#f0f921"
             ]
            ]
           }
          ],
          "mesh3d": [
           {
            "type": "mesh3d",
            "colorbar": {
             "outlinewidth": 0,
             "ticks": ""
            }
           }
          ],
          "scatter": [
           {
            "marker": {
             "line": {
              "color": "#283442"
             }
            },
            "type": "scatter"
           }
          ],
          "parcoords": [
           {
            "type": "parcoords",
            "line": {
             "colorbar": {
              "outlinewidth": 0,
              "ticks": ""
             }
            }
           }
          ],
          "scatterpolargl": [
           {
            "type": "scatterpolargl",
            "marker": {
             "colorbar": {
              "outlinewidth": 0,
              "ticks": ""
             }
            }
           }
          ],
          "bar": [
           {
            "error_x": {
             "color": "#f2f5fa"
            },
            "error_y": {
             "color": "#f2f5fa"
            },
            "marker": {
             "line": {
              "color": "rgb(17,17,17)",
              "width": 0.5
             },
             "pattern": {
              "fillmode": "overlay",
              "size": 10,
              "solidity": 0.2
             }
            },
            "type": "bar"
           }
          ],
          "scattergeo": [
           {
            "type": "scattergeo",
            "marker": {
             "colorbar": {
              "outlinewidth": 0,
              "ticks": ""
             }
            }
           }
          ],
          "scatterpolar": [
           {
            "type": "scatterpolar",
            "marker": {
             "colorbar": {
              "outlinewidth": 0,
              "ticks": ""
             }
            }
           }
          ],
          "histogram": [
           {
            "marker": {
             "pattern": {
              "fillmode": "overlay",
              "size": 10,
              "solidity": 0.2
             }
            },
            "type": "histogram"
           }
          ],
          "scattergl": [
           {
            "marker": {
             "line": {
              "color": "#283442"
             }
            },
            "type": "scattergl"
           }
          ],
          "scatter3d": [
           {
            "type": "scatter3d",
            "line": {
             "colorbar": {
              "outlinewidth": 0,
              "ticks": ""
             }
            },
            "marker": {
             "colorbar": {
              "outlinewidth": 0,
              "ticks": ""
             }
            }
           }
          ],
          "scattermapbox": [
           {
            "type": "scattermapbox",
            "marker": {
             "colorbar": {
              "outlinewidth": 0,
              "ticks": ""
             }
            }
           }
          ],
          "scatterternary": [
           {
            "type": "scatterternary",
            "marker": {
             "colorbar": {
              "outlinewidth": 0,
              "ticks": ""
             }
            }
           }
          ],
          "scattercarpet": [
           {
            "type": "scattercarpet",
            "marker": {
             "colorbar": {
              "outlinewidth": 0,
              "ticks": ""
             }
            }
           }
          ],
          "carpet": [
           {
            "aaxis": {
             "endlinecolor": "#A2B1C6",
             "gridcolor": "#506784",
             "linecolor": "#506784",
             "minorgridcolor": "#506784",
             "startlinecolor": "#A2B1C6"
            },
            "baxis": {
             "endlinecolor": "#A2B1C6",
             "gridcolor": "#506784",
             "linecolor": "#506784",
             "minorgridcolor": "#506784",
             "startlinecolor": "#A2B1C6"
            },
            "type": "carpet"
           }
          ],
          "table": [
           {
            "cells": {
             "fill": {
              "color": "#506784"
             },
             "line": {
              "color": "rgb(17,17,17)"
             }
            },
            "header": {
             "fill": {
              "color": "#2a3f5f"
             },
             "line": {
              "color": "rgb(17,17,17)"
             }
            },
            "type": "table"
           }
          ],
          "barpolar": [
           {
            "marker": {
             "line": {
              "color": "rgb(17,17,17)",
              "width": 0.5
             },
             "pattern": {
              "fillmode": "overlay",
              "size": 10,
              "solidity": 0.2
             }
            },
            "type": "barpolar"
           }
          ],
          "pie": [
           {
            "automargin": true,
            "type": "pie"
           }
          ]
         },
         "layout": {
          "autotypenumbers": "strict",
          "colorway": [
           "#636efa",
           "#EF553B",
           "#00cc96",
           "#ab63fa",
           "#FFA15A",
           "#19d3f3",
           "#FF6692",
           "#B6E880",
           "#FF97FF",
           "#FECB52"
          ],
          "font": {
           "color": "#f2f5fa"
          },
          "hovermode": "closest",
          "hoverlabel": {
           "align": "left"
          },
          "paper_bgcolor": "rgb(17,17,17)",
          "plot_bgcolor": "rgb(17,17,17)",
          "polar": {
           "bgcolor": "rgb(17,17,17)",
           "angularaxis": {
            "gridcolor": "#506784",
            "linecolor": "#506784",
            "ticks": ""
           },
           "radialaxis": {
            "gridcolor": "#506784",
            "linecolor": "#506784",
            "ticks": ""
           }
          },
          "ternary": {
           "bgcolor": "rgb(17,17,17)",
           "aaxis": {
            "gridcolor": "#506784",
            "linecolor": "#506784",
            "ticks": ""
           },
           "baxis": {
            "gridcolor": "#506784",
            "linecolor": "#506784",
            "ticks": ""
           },
           "caxis": {
            "gridcolor": "#506784",
            "linecolor": "#506784",
            "ticks": ""
           }
          },
          "coloraxis": {
           "colorbar": {
            "outlinewidth": 0,
            "ticks": ""
           }
          },
          "colorscale": {
           "sequential": [
            [
             0.0,
             "#0d0887"
            ],
            [
             0.1111111111111111,
             "#46039f"
            ],
            [
             0.2222222222222222,
             "#7201a8"
            ],
            [
             0.3333333333333333,
             "#9c179e"
            ],
            [
             0.4444444444444444,
             "#bd3786"
            ],
            [
             0.5555555555555556,
             "#d8576b"
            ],
            [
             0.6666666666666666,
             "#ed7953"
            ],
            [
             0.7777777777777778,
             "#fb9f3a"
            ],
            [
             0.8888888888888888,
             "#fdca26"
            ],
            [
             1.0,
             "#f0f921"
            ]
           ],
           "sequentialminus": [
            [
             0.0,
             "#0d0887"
            ],
            [
             0.1111111111111111,
             "#46039f"
            ],
            [
             0.2222222222222222,
             "#7201a8"
            ],
            [
             0.3333333333333333,
             "#9c179e"
            ],
            [
             0.4444444444444444,
             "#bd3786"
            ],
            [
             0.5555555555555556,
             "#d8576b"
            ],
            [
             0.6666666666666666,
             "#ed7953"
            ],
            [
             0.7777777777777778,
             "#fb9f3a"
            ],
            [
             0.8888888888888888,
             "#fdca26"
            ],
            [
             1.0,
             "#f0f921"
            ]
           ],
           "diverging": [
            [
             0,
             "#8e0152"
            ],
            [
             0.1,
             "#c51b7d"
            ],
            [
             0.2,
             "#de77ae"
            ],
            [
             0.3,
             "#f1b6da"
            ],
            [
             0.4,
             "#fde0ef"
            ],
            [
             0.5,
             "#f7f7f7"
            ],
            [
             0.6,
             "#e6f5d0"
            ],
            [
             0.7,
             "#b8e186"
            ],
            [
             0.8,
             "#7fbc41"
            ],
            [
             0.9,
             "#4d9221"
            ],
            [
             1,
             "#276419"
            ]
           ]
          },
          "xaxis": {
           "gridcolor": "#283442",
           "linecolor": "#506784",
           "ticks": "",
           "title": {
            "standoff": 15
           },
           "zerolinecolor": "#283442",
           "automargin": true,
           "zerolinewidth": 2
          },
          "yaxis": {
           "gridcolor": "#283442",
           "linecolor": "#506784",
           "ticks": "",
           "title": {
            "standoff": 15
           },
           "zerolinecolor": "#283442",
           "automargin": true,
           "zerolinewidth": 2
          },
          "scene": {
           "xaxis": {
            "backgroundcolor": "rgb(17,17,17)",
            "gridcolor": "#506784",
            "linecolor": "#506784",
            "showbackground": true,
            "ticks": "",
            "zerolinecolor": "#C8D4E3",
            "gridwidth": 2
           },
           "yaxis": {
            "backgroundcolor": "rgb(17,17,17)",
            "gridcolor": "#506784",
            "linecolor": "#506784",
            "showbackground": true,
            "ticks": "",
            "zerolinecolor": "#C8D4E3",
            "gridwidth": 2
           },
           "zaxis": {
            "backgroundcolor": "rgb(17,17,17)",
            "gridcolor": "#506784",
            "linecolor": "#506784",
            "showbackground": true,
            "ticks": "",
            "zerolinecolor": "#C8D4E3",
            "gridwidth": 2
           }
          },
          "shapedefaults": {
           "line": {
            "color": "#f2f5fa"
           }
          },
          "annotationdefaults": {
           "arrowcolor": "#f2f5fa",
           "arrowhead": 0,
           "arrowwidth": 1
          },
          "geo": {
           "bgcolor": "rgb(17,17,17)",
           "landcolor": "rgb(17,17,17)",
           "subunitcolor": "#506784",
           "showland": true,
           "showlakes": true,
           "lakecolor": "rgb(17,17,17)"
          },
          "title": {
           "x": 0.05
          },
          "updatemenudefaults": {
           "bgcolor": "#506784",
           "borderwidth": 0
          },
          "sliderdefaults": {
           "bgcolor": "#C8D4E3",
           "borderwidth": 1,
           "bordercolor": "rgb(17,17,17)",
           "tickwidth": 0
          },
          "mapbox": {
           "style": "dark"
          }
         }
        },
        "xaxis": {
         "anchor": "y",
         "domain": [
          0.0,
          1.0
         ],
         "scaleanchor": "y",
         "constrain": "domain",
         "title": {
          "text": "유사한 지역"
         }
        },
        "yaxis": {
         "anchor": "x",
         "domain": [
          0.0,
          1.0
         ],
         "autorange": "reversed",
         "constrain": "domain",
         "title": {
          "text": "기준 지역"
         }
        },
        "coloraxis": {
         "colorbar": {
          "title": {
           "text": "유사도"
          }
         },
         "colorscale": [
          [
           0.0,
           "rgb(247,251,255)"
          ],
          [
           0.125,
           "rgb(222,235,247)"
          ],
          [
           0.25,
           "rgb(198,219,239)"
          ],
          [
           0.375,
           "rgb(158,202,225)"
          ],
          [
           0.5,
           "rgb(107,174,214)"
          ],
          [
           0.625,
           "rgb(66,146,198)"
          ],
          [
           0.75,
           "rgb(33,113,181)"
          ],
          [
           0.875,
           "rgb(8,81,156)"
          ],
          [
           1.0,
           "rgb(8,48,107)"
          ]
         ]
        },
        "title": {
         "text": "강릉시과 유사한 상위 5개 지역"
        }
       },
       "config": {
        "plotlyServerURL": "https://plot.ly"
       }
      },
      "text/html": "<div>                            <div id=\"18242f18-7f7a-4acf-9873-4fbce1535a4a\" class=\"plotly-graph-div\" style=\"height:525px; width:100%;\"></div>            <script type=\"text/javascript\">                require([\"plotly\"], function(Plotly) {                    window.PLOTLYENV=window.PLOTLYENV || {};                                    if (document.getElementById(\"18242f18-7f7a-4acf-9873-4fbce1535a4a\")) {                    Plotly.newPlot(                        \"18242f18-7f7a-4acf-9873-4fbce1535a4a\",                        [{\"coloraxis\":\"coloraxis\",\"name\":\"0\",\"texttemplate\":\"%{z}\",\"x\":[\"\\uc544\\uc0b0\\uc2dc\",\"\\ub2f9\\uc9c4\\uc2dc\",\"\\ucda9\\uc8fc\\uc2dc\",\"\\ubcf4\\ub839\\uc2dc\",\"\\uc11c\\uc0b0\\uc2dc\"],\"y\":[\"\\uac15\\ub989\\uc2dc\"],\"z\":[[0.980146621304931,0.9720758188965747,0.9640244401424316,0.8448808210620506,0.8444431618132293]],\"type\":\"heatmap\",\"xaxis\":\"x\",\"yaxis\":\"y\",\"hovertemplate\":\"\\uc720\\uc0ac\\ud55c \\uc9c0\\uc5ed: %{x}\\u003cbr\\u003e\\uae30\\uc900 \\uc9c0\\uc5ed: %{y}\\u003cbr\\u003e\\uc720\\uc0ac\\ub3c4: %{z}\\u003cextra\\u003e\\u003c\\u002fextra\\u003e\"}],                        {\"template\":{\"data\":{\"histogram2dcontour\":[{\"type\":\"histogram2dcontour\",\"colorbar\":{\"outlinewidth\":0,\"ticks\":\"\"},\"colorscale\":[[0.0,\"#0d0887\"],[0.1111111111111111,\"#46039f\"],[0.2222222222222222,\"#7201a8\"],[0.3333333333333333,\"#9c179e\"],[0.4444444444444444,\"#bd3786\"],[0.5555555555555556,\"#d8576b\"],[0.6666666666666666,\"#ed7953\"],[0.7777777777777778,\"#fb9f3a\"],[0.8888888888888888,\"#fdca26\"],[1.0,\"#f0f921\"]]}],\"choropleth\":[{\"type\":\"choropleth\",\"colorbar\":{\"outlinewidth\":0,\"ticks\":\"\"}}],\"histogram2d\":[{\"type\":\"histogram2d\",\"colorbar\":{\"outlinewidth\":0,\"ticks\":\"\"},\"colorscale\":[[0.0,\"#0d0887\"],[0.1111111111111111,\"#46039f\"],[0.2222222222222222,\"#7201a8\"],[0.3333333333333333,\"#9c179e\"],[0.4444444444444444,\"#bd3786\"],[0.5555555555555556,\"#d8576b\"],[0.6666666666666666,\"#ed7953\"],[0.7777777777777778,\"#fb9f3a\"],[0.8888888888888888,\"#fdca26\"],[1.0,\"#f0f921\"]]}],\"heatmap\":[{\"type\":\"heatmap\",\"colorbar\":{\"outlinewidth\":0,\"ticks\":\"\"},\"colorscale\":[[0.0,\"#0d0887\"],[0.1111111111111111,\"#46039f\"],[0.2222222222222222,\"#7201a8\"],[0.3333333333333333,\"#9c179e\"],[0.4444444444444444,\"#bd3786\"],[0.5555555555555556,\"#d8576b\"],[0.6666666666666666,\"#ed7953\"],[0.7777777777777778,\"#fb9f3a\"],[0.8888888888888888,\"#fdca26\"],[1.0,\"#f0f921\"]]}],\"heatmapgl\":[{\"type\":\"heatmapgl\",\"colorbar\":{\"outlinewidth\":0,\"ticks\":\"\"},\"colorscale\":[[0.0,\"#0d0887\"],[0.1111111111111111,\"#46039f\"],[0.2222222222222222,\"#7201a8\"],[0.3333333333333333,\"#9c179e\"],[0.4444444444444444,\"#bd3786\"],[0.5555555555555556,\"#d8576b\"],[0.6666666666666666,\"#ed7953\"],[0.7777777777777778,\"#fb9f3a\"],[0.8888888888888888,\"#fdca26\"],[1.0,\"#f0f921\"]]}],\"contourcarpet\":[{\"type\":\"contourcarpet\",\"colorbar\":{\"outlinewidth\":0,\"ticks\":\"\"}}],\"contour\":[{\"type\":\"contour\",\"colorbar\":{\"outlinewidth\":0,\"ticks\":\"\"},\"colorscale\":[[0.0,\"#0d0887\"],[0.1111111111111111,\"#46039f\"],[0.2222222222222222,\"#7201a8\"],[0.3333333333333333,\"#9c179e\"],[0.4444444444444444,\"#bd3786\"],[0.5555555555555556,\"#d8576b\"],[0.6666666666666666,\"#ed7953\"],[0.7777777777777778,\"#fb9f3a\"],[0.8888888888888888,\"#fdca26\"],[1.0,\"#f0f921\"]]}],\"surface\":[{\"type\":\"surface\",\"colorbar\":{\"outlinewidth\":0,\"ticks\":\"\"},\"colorscale\":[[0.0,\"#0d0887\"],[0.1111111111111111,\"#46039f\"],[0.2222222222222222,\"#7201a8\"],[0.3333333333333333,\"#9c179e\"],[0.4444444444444444,\"#bd3786\"],[0.5555555555555556,\"#d8576b\"],[0.6666666666666666,\"#ed7953\"],[0.7777777777777778,\"#fb9f3a\"],[0.8888888888888888,\"#fdca26\"],[1.0,\"#f0f921\"]]}],\"mesh3d\":[{\"type\":\"mesh3d\",\"colorbar\":{\"outlinewidth\":0,\"ticks\":\"\"}}],\"scatter\":[{\"marker\":{\"line\":{\"color\":\"#283442\"}},\"type\":\"scatter\"}],\"parcoords\":[{\"type\":\"parcoords\",\"line\":{\"colorbar\":{\"outlinewidth\":0,\"ticks\":\"\"}}}],\"scatterpolargl\":[{\"type\":\"scatterpolargl\",\"marker\":{\"colorbar\":{\"outlinewidth\":0,\"ticks\":\"\"}}}],\"bar\":[{\"error_x\":{\"color\":\"#f2f5fa\"},\"error_y\":{\"color\":\"#f2f5fa\"},\"marker\":{\"line\":{\"color\":\"rgb(17,17,17)\",\"width\":0.5},\"pattern\":{\"fillmode\":\"overlay\",\"size\":10,\"solidity\":0.2}},\"type\":\"bar\"}],\"scattergeo\":[{\"type\":\"scattergeo\",\"marker\":{\"colorbar\":{\"outlinewidth\":0,\"ticks\":\"\"}}}],\"scatterpolar\":[{\"type\":\"scatterpolar\",\"marker\":{\"colorbar\":{\"outlinewidth\":0,\"ticks\":\"\"}}}],\"histogram\":[{\"marker\":{\"pattern\":{\"fillmode\":\"overlay\",\"size\":10,\"solidity\":0.2}},\"type\":\"histogram\"}],\"scattergl\":[{\"marker\":{\"line\":{\"color\":\"#283442\"}},\"type\":\"scattergl\"}],\"scatter3d\":[{\"type\":\"scatter3d\",\"line\":{\"colorbar\":{\"outlinewidth\":0,\"ticks\":\"\"}},\"marker\":{\"colorbar\":{\"outlinewidth\":0,\"ticks\":\"\"}}}],\"scattermapbox\":[{\"type\":\"scattermapbox\",\"marker\":{\"colorbar\":{\"outlinewidth\":0,\"ticks\":\"\"}}}],\"scatterternary\":[{\"type\":\"scatterternary\",\"marker\":{\"colorbar\":{\"outlinewidth\":0,\"ticks\":\"\"}}}],\"scattercarpet\":[{\"type\":\"scattercarpet\",\"marker\":{\"colorbar\":{\"outlinewidth\":0,\"ticks\":\"\"}}}],\"carpet\":[{\"aaxis\":{\"endlinecolor\":\"#A2B1C6\",\"gridcolor\":\"#506784\",\"linecolor\":\"#506784\",\"minorgridcolor\":\"#506784\",\"startlinecolor\":\"#A2B1C6\"},\"baxis\":{\"endlinecolor\":\"#A2B1C6\",\"gridcolor\":\"#506784\",\"linecolor\":\"#506784\",\"minorgridcolor\":\"#506784\",\"startlinecolor\":\"#A2B1C6\"},\"type\":\"carpet\"}],\"table\":[{\"cells\":{\"fill\":{\"color\":\"#506784\"},\"line\":{\"color\":\"rgb(17,17,17)\"}},\"header\":{\"fill\":{\"color\":\"#2a3f5f\"},\"line\":{\"color\":\"rgb(17,17,17)\"}},\"type\":\"table\"}],\"barpolar\":[{\"marker\":{\"line\":{\"color\":\"rgb(17,17,17)\",\"width\":0.5},\"pattern\":{\"fillmode\":\"overlay\",\"size\":10,\"solidity\":0.2}},\"type\":\"barpolar\"}],\"pie\":[{\"automargin\":true,\"type\":\"pie\"}]},\"layout\":{\"autotypenumbers\":\"strict\",\"colorway\":[\"#636efa\",\"#EF553B\",\"#00cc96\",\"#ab63fa\",\"#FFA15A\",\"#19d3f3\",\"#FF6692\",\"#B6E880\",\"#FF97FF\",\"#FECB52\"],\"font\":{\"color\":\"#f2f5fa\"},\"hovermode\":\"closest\",\"hoverlabel\":{\"align\":\"left\"},\"paper_bgcolor\":\"rgb(17,17,17)\",\"plot_bgcolor\":\"rgb(17,17,17)\",\"polar\":{\"bgcolor\":\"rgb(17,17,17)\",\"angularaxis\":{\"gridcolor\":\"#506784\",\"linecolor\":\"#506784\",\"ticks\":\"\"},\"radialaxis\":{\"gridcolor\":\"#506784\",\"linecolor\":\"#506784\",\"ticks\":\"\"}},\"ternary\":{\"bgcolor\":\"rgb(17,17,17)\",\"aaxis\":{\"gridcolor\":\"#506784\",\"linecolor\":\"#506784\",\"ticks\":\"\"},\"baxis\":{\"gridcolor\":\"#506784\",\"linecolor\":\"#506784\",\"ticks\":\"\"},\"caxis\":{\"gridcolor\":\"#506784\",\"linecolor\":\"#506784\",\"ticks\":\"\"}},\"coloraxis\":{\"colorbar\":{\"outlinewidth\":0,\"ticks\":\"\"}},\"colorscale\":{\"sequential\":[[0.0,\"#0d0887\"],[0.1111111111111111,\"#46039f\"],[0.2222222222222222,\"#7201a8\"],[0.3333333333333333,\"#9c179e\"],[0.4444444444444444,\"#bd3786\"],[0.5555555555555556,\"#d8576b\"],[0.6666666666666666,\"#ed7953\"],[0.7777777777777778,\"#fb9f3a\"],[0.8888888888888888,\"#fdca26\"],[1.0,\"#f0f921\"]],\"sequentialminus\":[[0.0,\"#0d0887\"],[0.1111111111111111,\"#46039f\"],[0.2222222222222222,\"#7201a8\"],[0.3333333333333333,\"#9c179e\"],[0.4444444444444444,\"#bd3786\"],[0.5555555555555556,\"#d8576b\"],[0.6666666666666666,\"#ed7953\"],[0.7777777777777778,\"#fb9f3a\"],[0.8888888888888888,\"#fdca26\"],[1.0,\"#f0f921\"]],\"diverging\":[[0,\"#8e0152\"],[0.1,\"#c51b7d\"],[0.2,\"#de77ae\"],[0.3,\"#f1b6da\"],[0.4,\"#fde0ef\"],[0.5,\"#f7f7f7\"],[0.6,\"#e6f5d0\"],[0.7,\"#b8e186\"],[0.8,\"#7fbc41\"],[0.9,\"#4d9221\"],[1,\"#276419\"]]},\"xaxis\":{\"gridcolor\":\"#283442\",\"linecolor\":\"#506784\",\"ticks\":\"\",\"title\":{\"standoff\":15},\"zerolinecolor\":\"#283442\",\"automargin\":true,\"zerolinewidth\":2},\"yaxis\":{\"gridcolor\":\"#283442\",\"linecolor\":\"#506784\",\"ticks\":\"\",\"title\":{\"standoff\":15},\"zerolinecolor\":\"#283442\",\"automargin\":true,\"zerolinewidth\":2},\"scene\":{\"xaxis\":{\"backgroundcolor\":\"rgb(17,17,17)\",\"gridcolor\":\"#506784\",\"linecolor\":\"#506784\",\"showbackground\":true,\"ticks\":\"\",\"zerolinecolor\":\"#C8D4E3\",\"gridwidth\":2},\"yaxis\":{\"backgroundcolor\":\"rgb(17,17,17)\",\"gridcolor\":\"#506784\",\"linecolor\":\"#506784\",\"showbackground\":true,\"ticks\":\"\",\"zerolinecolor\":\"#C8D4E3\",\"gridwidth\":2},\"zaxis\":{\"backgroundcolor\":\"rgb(17,17,17)\",\"gridcolor\":\"#506784\",\"linecolor\":\"#506784\",\"showbackground\":true,\"ticks\":\"\",\"zerolinecolor\":\"#C8D4E3\",\"gridwidth\":2}},\"shapedefaults\":{\"line\":{\"color\":\"#f2f5fa\"}},\"annotationdefaults\":{\"arrowcolor\":\"#f2f5fa\",\"arrowhead\":0,\"arrowwidth\":1},\"geo\":{\"bgcolor\":\"rgb(17,17,17)\",\"landcolor\":\"rgb(17,17,17)\",\"subunitcolor\":\"#506784\",\"showland\":true,\"showlakes\":true,\"lakecolor\":\"rgb(17,17,17)\"},\"title\":{\"x\":0.05},\"updatemenudefaults\":{\"bgcolor\":\"#506784\",\"borderwidth\":0},\"sliderdefaults\":{\"bgcolor\":\"#C8D4E3\",\"borderwidth\":1,\"bordercolor\":\"rgb(17,17,17)\",\"tickwidth\":0},\"mapbox\":{\"style\":\"dark\"}}},\"xaxis\":{\"anchor\":\"y\",\"domain\":[0.0,1.0],\"scaleanchor\":\"y\",\"constrain\":\"domain\",\"title\":{\"text\":\"\\uc720\\uc0ac\\ud55c \\uc9c0\\uc5ed\"}},\"yaxis\":{\"anchor\":\"x\",\"domain\":[0.0,1.0],\"autorange\":\"reversed\",\"constrain\":\"domain\",\"title\":{\"text\":\"\\uae30\\uc900 \\uc9c0\\uc5ed\"}},\"coloraxis\":{\"colorbar\":{\"title\":{\"text\":\"\\uc720\\uc0ac\\ub3c4\"}},\"colorscale\":[[0.0,\"rgb(247,251,255)\"],[0.125,\"rgb(222,235,247)\"],[0.25,\"rgb(198,219,239)\"],[0.375,\"rgb(158,202,225)\"],[0.5,\"rgb(107,174,214)\"],[0.625,\"rgb(66,146,198)\"],[0.75,\"rgb(33,113,181)\"],[0.875,\"rgb(8,81,156)\"],[1.0,\"rgb(8,48,107)\"]]},\"title\":{\"text\":\"\\uac15\\ub989\\uc2dc\\uacfc \\uc720\\uc0ac\\ud55c \\uc0c1\\uc704 5\\uac1c \\uc9c0\\uc5ed\"}},                        {\"responsive\": true}                    ).then(function(){\n                            \nvar gd = document.getElementById('18242f18-7f7a-4acf-9873-4fbce1535a4a');\nvar x = new MutationObserver(function (mutations, observer) {{\n        var display = window.getComputedStyle(gd).display;\n        if (!display || display === 'none') {{\n            console.log([gd, 'removed!']);\n            Plotly.purge(gd);\n            observer.disconnect();\n        }}\n}});\n\n// Listen for the removal of the full notebook cells\nvar notebookContainer = gd.closest('#notebook-container');\nif (notebookContainer) {{\n    x.observe(notebookContainer, {childList: true});\n}}\n\n// Listen for the clearing of the current output cell\nvar outputEl = gd.closest('.output');\nif (outputEl) {{\n    x.observe(outputEl, {childList: true});\n}}\n\n                        })                };                });            </script>        </div>"
     },
     "metadata": {},
     "output_type": "display_data"
    },
    {
     "data": {
      "application/vnd.plotly.v1+json": {
       "data": [
        {
         "coloraxis": "coloraxis",
         "name": "0",
         "texttemplate": "%{z}",
         "x": [
          "아산시",
          "당진시",
          "충주시",
          "보령시",
          "태안군"
         ],
         "y": [
          "경주시"
         ],
         "z": [
          [
           0.921243999826134,
           0.8735869414047548,
           0.8152294971676046,
           0.6742636292472662,
           0.6722561075098147
          ]
         ],
         "type": "heatmap",
         "xaxis": "x",
         "yaxis": "y",
         "hovertemplate": "유사한 지역: %{x}<br>기준 지역: %{y}<br>유사도: %{z}<extra></extra>"
        }
       ],
       "layout": {
        "template": {
         "data": {
          "histogram2dcontour": [
           {
            "type": "histogram2dcontour",
            "colorbar": {
             "outlinewidth": 0,
             "ticks": ""
            },
            "colorscale": [
             [
              0.0,
              "#0d0887"
             ],
             [
              0.1111111111111111,
              "#46039f"
             ],
             [
              0.2222222222222222,
              "#7201a8"
             ],
             [
              0.3333333333333333,
              "#9c179e"
             ],
             [
              0.4444444444444444,
              "#bd3786"
             ],
             [
              0.5555555555555556,
              "#d8576b"
             ],
             [
              0.6666666666666666,
              "#ed7953"
             ],
             [
              0.7777777777777778,
              "#fb9f3a"
             ],
             [
              0.8888888888888888,
              "#fdca26"
             ],
             [
              1.0,
              "#f0f921"
             ]
            ]
           }
          ],
          "choropleth": [
           {
            "type": "choropleth",
            "colorbar": {
             "outlinewidth": 0,
             "ticks": ""
            }
           }
          ],
          "histogram2d": [
           {
            "type": "histogram2d",
            "colorbar": {
             "outlinewidth": 0,
             "ticks": ""
            },
            "colorscale": [
             [
              0.0,
              "#0d0887"
             ],
             [
              0.1111111111111111,
              "#46039f"
             ],
             [
              0.2222222222222222,
              "#7201a8"
             ],
             [
              0.3333333333333333,
              "#9c179e"
             ],
             [
              0.4444444444444444,
              "#bd3786"
             ],
             [
              0.5555555555555556,
              "#d8576b"
             ],
             [
              0.6666666666666666,
              "#ed7953"
             ],
             [
              0.7777777777777778,
              "#fb9f3a"
             ],
             [
              0.8888888888888888,
              "#fdca26"
             ],
             [
              1.0,
              "#f0f921"
             ]
            ]
           }
          ],
          "heatmap": [
           {
            "type": "heatmap",
            "colorbar": {
             "outlinewidth": 0,
             "ticks": ""
            },
            "colorscale": [
             [
              0.0,
              "#0d0887"
             ],
             [
              0.1111111111111111,
              "#46039f"
             ],
             [
              0.2222222222222222,
              "#7201a8"
             ],
             [
              0.3333333333333333,
              "#9c179e"
             ],
             [
              0.4444444444444444,
              "#bd3786"
             ],
             [
              0.5555555555555556,
              "#d8576b"
             ],
             [
              0.6666666666666666,
              "#ed7953"
             ],
             [
              0.7777777777777778,
              "#fb9f3a"
             ],
             [
              0.8888888888888888,
              "#fdca26"
             ],
             [
              1.0,
              "#f0f921"
             ]
            ]
           }
          ],
          "heatmapgl": [
           {
            "type": "heatmapgl",
            "colorbar": {
             "outlinewidth": 0,
             "ticks": ""
            },
            "colorscale": [
             [
              0.0,
              "#0d0887"
             ],
             [
              0.1111111111111111,
              "#46039f"
             ],
             [
              0.2222222222222222,
              "#7201a8"
             ],
             [
              0.3333333333333333,
              "#9c179e"
             ],
             [
              0.4444444444444444,
              "#bd3786"
             ],
             [
              0.5555555555555556,
              "#d8576b"
             ],
             [
              0.6666666666666666,
              "#ed7953"
             ],
             [
              0.7777777777777778,
              "#fb9f3a"
             ],
             [
              0.8888888888888888,
              "#fdca26"
             ],
             [
              1.0,
              "#f0f921"
             ]
            ]
           }
          ],
          "contourcarpet": [
           {
            "type": "contourcarpet",
            "colorbar": {
             "outlinewidth": 0,
             "ticks": ""
            }
           }
          ],
          "contour": [
           {
            "type": "contour",
            "colorbar": {
             "outlinewidth": 0,
             "ticks": ""
            },
            "colorscale": [
             [
              0.0,
              "#0d0887"
             ],
             [
              0.1111111111111111,
              "#46039f"
             ],
             [
              0.2222222222222222,
              "#7201a8"
             ],
             [
              0.3333333333333333,
              "#9c179e"
             ],
             [
              0.4444444444444444,
              "#bd3786"
             ],
             [
              0.5555555555555556,
              "#d8576b"
             ],
             [
              0.6666666666666666,
              "#ed7953"
             ],
             [
              0.7777777777777778,
              "#fb9f3a"
             ],
             [
              0.8888888888888888,
              "#fdca26"
             ],
             [
              1.0,
              "#f0f921"
             ]
            ]
           }
          ],
          "surface": [
           {
            "type": "surface",
            "colorbar": {
             "outlinewidth": 0,
             "ticks": ""
            },
            "colorscale": [
             [
              0.0,
              "#0d0887"
             ],
             [
              0.1111111111111111,
              "#46039f"
             ],
             [
              0.2222222222222222,
              "#7201a8"
             ],
             [
              0.3333333333333333,
              "#9c179e"
             ],
             [
              0.4444444444444444,
              "#bd3786"
             ],
             [
              0.5555555555555556,
              "#d8576b"
             ],
             [
              0.6666666666666666,
              "#ed7953"
             ],
             [
              0.7777777777777778,
              "#fb9f3a"
             ],
             [
              0.8888888888888888,
              "#fdca26"
             ],
             [
              1.0,
              "#f0f921"
             ]
            ]
           }
          ],
          "mesh3d": [
           {
            "type": "mesh3d",
            "colorbar": {
             "outlinewidth": 0,
             "ticks": ""
            }
           }
          ],
          "scatter": [
           {
            "marker": {
             "line": {
              "color": "#283442"
             }
            },
            "type": "scatter"
           }
          ],
          "parcoords": [
           {
            "type": "parcoords",
            "line": {
             "colorbar": {
              "outlinewidth": 0,
              "ticks": ""
             }
            }
           }
          ],
          "scatterpolargl": [
           {
            "type": "scatterpolargl",
            "marker": {
             "colorbar": {
              "outlinewidth": 0,
              "ticks": ""
             }
            }
           }
          ],
          "bar": [
           {
            "error_x": {
             "color": "#f2f5fa"
            },
            "error_y": {
             "color": "#f2f5fa"
            },
            "marker": {
             "line": {
              "color": "rgb(17,17,17)",
              "width": 0.5
             },
             "pattern": {
              "fillmode": "overlay",
              "size": 10,
              "solidity": 0.2
             }
            },
            "type": "bar"
           }
          ],
          "scattergeo": [
           {
            "type": "scattergeo",
            "marker": {
             "colorbar": {
              "outlinewidth": 0,
              "ticks": ""
             }
            }
           }
          ],
          "scatterpolar": [
           {
            "type": "scatterpolar",
            "marker": {
             "colorbar": {
              "outlinewidth": 0,
              "ticks": ""
             }
            }
           }
          ],
          "histogram": [
           {
            "marker": {
             "pattern": {
              "fillmode": "overlay",
              "size": 10,
              "solidity": 0.2
             }
            },
            "type": "histogram"
           }
          ],
          "scattergl": [
           {
            "marker": {
             "line": {
              "color": "#283442"
             }
            },
            "type": "scattergl"
           }
          ],
          "scatter3d": [
           {
            "type": "scatter3d",
            "line": {
             "colorbar": {
              "outlinewidth": 0,
              "ticks": ""
             }
            },
            "marker": {
             "colorbar": {
              "outlinewidth": 0,
              "ticks": ""
             }
            }
           }
          ],
          "scattermapbox": [
           {
            "type": "scattermapbox",
            "marker": {
             "colorbar": {
              "outlinewidth": 0,
              "ticks": ""
             }
            }
           }
          ],
          "scatterternary": [
           {
            "type": "scatterternary",
            "marker": {
             "colorbar": {
              "outlinewidth": 0,
              "ticks": ""
             }
            }
           }
          ],
          "scattercarpet": [
           {
            "type": "scattercarpet",
            "marker": {
             "colorbar": {
              "outlinewidth": 0,
              "ticks": ""
             }
            }
           }
          ],
          "carpet": [
           {
            "aaxis": {
             "endlinecolor": "#A2B1C6",
             "gridcolor": "#506784",
             "linecolor": "#506784",
             "minorgridcolor": "#506784",
             "startlinecolor": "#A2B1C6"
            },
            "baxis": {
             "endlinecolor": "#A2B1C6",
             "gridcolor": "#506784",
             "linecolor": "#506784",
             "minorgridcolor": "#506784",
             "startlinecolor": "#A2B1C6"
            },
            "type": "carpet"
           }
          ],
          "table": [
           {
            "cells": {
             "fill": {
              "color": "#506784"
             },
             "line": {
              "color": "rgb(17,17,17)"
             }
            },
            "header": {
             "fill": {
              "color": "#2a3f5f"
             },
             "line": {
              "color": "rgb(17,17,17)"
             }
            },
            "type": "table"
           }
          ],
          "barpolar": [
           {
            "marker": {
             "line": {
              "color": "rgb(17,17,17)",
              "width": 0.5
             },
             "pattern": {
              "fillmode": "overlay",
              "size": 10,
              "solidity": 0.2
             }
            },
            "type": "barpolar"
           }
          ],
          "pie": [
           {
            "automargin": true,
            "type": "pie"
           }
          ]
         },
         "layout": {
          "autotypenumbers": "strict",
          "colorway": [
           "#636efa",
           "#EF553B",
           "#00cc96",
           "#ab63fa",
           "#FFA15A",
           "#19d3f3",
           "#FF6692",
           "#B6E880",
           "#FF97FF",
           "#FECB52"
          ],
          "font": {
           "color": "#f2f5fa"
          },
          "hovermode": "closest",
          "hoverlabel": {
           "align": "left"
          },
          "paper_bgcolor": "rgb(17,17,17)",
          "plot_bgcolor": "rgb(17,17,17)",
          "polar": {
           "bgcolor": "rgb(17,17,17)",
           "angularaxis": {
            "gridcolor": "#506784",
            "linecolor": "#506784",
            "ticks": ""
           },
           "radialaxis": {
            "gridcolor": "#506784",
            "linecolor": "#506784",
            "ticks": ""
           }
          },
          "ternary": {
           "bgcolor": "rgb(17,17,17)",
           "aaxis": {
            "gridcolor": "#506784",
            "linecolor": "#506784",
            "ticks": ""
           },
           "baxis": {
            "gridcolor": "#506784",
            "linecolor": "#506784",
            "ticks": ""
           },
           "caxis": {
            "gridcolor": "#506784",
            "linecolor": "#506784",
            "ticks": ""
           }
          },
          "coloraxis": {
           "colorbar": {
            "outlinewidth": 0,
            "ticks": ""
           }
          },
          "colorscale": {
           "sequential": [
            [
             0.0,
             "#0d0887"
            ],
            [
             0.1111111111111111,
             "#46039f"
            ],
            [
             0.2222222222222222,
             "#7201a8"
            ],
            [
             0.3333333333333333,
             "#9c179e"
            ],
            [
             0.4444444444444444,
             "#bd3786"
            ],
            [
             0.5555555555555556,
             "#d8576b"
            ],
            [
             0.6666666666666666,
             "#ed7953"
            ],
            [
             0.7777777777777778,
             "#fb9f3a"
            ],
            [
             0.8888888888888888,
             "#fdca26"
            ],
            [
             1.0,
             "#f0f921"
            ]
           ],
           "sequentialminus": [
            [
             0.0,
             "#0d0887"
            ],
            [
             0.1111111111111111,
             "#46039f"
            ],
            [
             0.2222222222222222,
             "#7201a8"
            ],
            [
             0.3333333333333333,
             "#9c179e"
            ],
            [
             0.4444444444444444,
             "#bd3786"
            ],
            [
             0.5555555555555556,
             "#d8576b"
            ],
            [
             0.6666666666666666,
             "#ed7953"
            ],
            [
             0.7777777777777778,
             "#fb9f3a"
            ],
            [
             0.8888888888888888,
             "#fdca26"
            ],
            [
             1.0,
             "#f0f921"
            ]
           ],
           "diverging": [
            [
             0,
             "#8e0152"
            ],
            [
             0.1,
             "#c51b7d"
            ],
            [
             0.2,
             "#de77ae"
            ],
            [
             0.3,
             "#f1b6da"
            ],
            [
             0.4,
             "#fde0ef"
            ],
            [
             0.5,
             "#f7f7f7"
            ],
            [
             0.6,
             "#e6f5d0"
            ],
            [
             0.7,
             "#b8e186"
            ],
            [
             0.8,
             "#7fbc41"
            ],
            [
             0.9,
             "#4d9221"
            ],
            [
             1,
             "#276419"
            ]
           ]
          },
          "xaxis": {
           "gridcolor": "#283442",
           "linecolor": "#506784",
           "ticks": "",
           "title": {
            "standoff": 15
           },
           "zerolinecolor": "#283442",
           "automargin": true,
           "zerolinewidth": 2
          },
          "yaxis": {
           "gridcolor": "#283442",
           "linecolor": "#506784",
           "ticks": "",
           "title": {
            "standoff": 15
           },
           "zerolinecolor": "#283442",
           "automargin": true,
           "zerolinewidth": 2
          },
          "scene": {
           "xaxis": {
            "backgroundcolor": "rgb(17,17,17)",
            "gridcolor": "#506784",
            "linecolor": "#506784",
            "showbackground": true,
            "ticks": "",
            "zerolinecolor": "#C8D4E3",
            "gridwidth": 2
           },
           "yaxis": {
            "backgroundcolor": "rgb(17,17,17)",
            "gridcolor": "#506784",
            "linecolor": "#506784",
            "showbackground": true,
            "ticks": "",
            "zerolinecolor": "#C8D4E3",
            "gridwidth": 2
           },
           "zaxis": {
            "backgroundcolor": "rgb(17,17,17)",
            "gridcolor": "#506784",
            "linecolor": "#506784",
            "showbackground": true,
            "ticks": "",
            "zerolinecolor": "#C8D4E3",
            "gridwidth": 2
           }
          },
          "shapedefaults": {
           "line": {
            "color": "#f2f5fa"
           }
          },
          "annotationdefaults": {
           "arrowcolor": "#f2f5fa",
           "arrowhead": 0,
           "arrowwidth": 1
          },
          "geo": {
           "bgcolor": "rgb(17,17,17)",
           "landcolor": "rgb(17,17,17)",
           "subunitcolor": "#506784",
           "showland": true,
           "showlakes": true,
           "lakecolor": "rgb(17,17,17)"
          },
          "title": {
           "x": 0.05
          },
          "updatemenudefaults": {
           "bgcolor": "#506784",
           "borderwidth": 0
          },
          "sliderdefaults": {
           "bgcolor": "#C8D4E3",
           "borderwidth": 1,
           "bordercolor": "rgb(17,17,17)",
           "tickwidth": 0
          },
          "mapbox": {
           "style": "dark"
          }
         }
        },
        "xaxis": {
         "anchor": "y",
         "domain": [
          0.0,
          1.0
         ],
         "scaleanchor": "y",
         "constrain": "domain",
         "title": {
          "text": "유사한 지역"
         }
        },
        "yaxis": {
         "anchor": "x",
         "domain": [
          0.0,
          1.0
         ],
         "autorange": "reversed",
         "constrain": "domain",
         "title": {
          "text": "기준 지역"
         }
        },
        "coloraxis": {
         "colorbar": {
          "title": {
           "text": "유사도"
          }
         },
         "colorscale": [
          [
           0.0,
           "rgb(247,251,255)"
          ],
          [
           0.125,
           "rgb(222,235,247)"
          ],
          [
           0.25,
           "rgb(198,219,239)"
          ],
          [
           0.375,
           "rgb(158,202,225)"
          ],
          [
           0.5,
           "rgb(107,174,214)"
          ],
          [
           0.625,
           "rgb(66,146,198)"
          ],
          [
           0.75,
           "rgb(33,113,181)"
          ],
          [
           0.875,
           "rgb(8,81,156)"
          ],
          [
           1.0,
           "rgb(8,48,107)"
          ]
         ]
        },
        "title": {
         "text": "경주시과 유사한 상위 5개 지역"
        }
       },
       "config": {
        "plotlyServerURL": "https://plot.ly"
       }
      },
      "text/html": "<div>                            <div id=\"46055b48-40d7-4e52-9289-4f1d76d3c87a\" class=\"plotly-graph-div\" style=\"height:525px; width:100%;\"></div>            <script type=\"text/javascript\">                require([\"plotly\"], function(Plotly) {                    window.PLOTLYENV=window.PLOTLYENV || {};                                    if (document.getElementById(\"46055b48-40d7-4e52-9289-4f1d76d3c87a\")) {                    Plotly.newPlot(                        \"46055b48-40d7-4e52-9289-4f1d76d3c87a\",                        [{\"coloraxis\":\"coloraxis\",\"name\":\"0\",\"texttemplate\":\"%{z}\",\"x\":[\"\\uc544\\uc0b0\\uc2dc\",\"\\ub2f9\\uc9c4\\uc2dc\",\"\\ucda9\\uc8fc\\uc2dc\",\"\\ubcf4\\ub839\\uc2dc\",\"\\ud0dc\\uc548\\uad70\"],\"y\":[\"\\uacbd\\uc8fc\\uc2dc\"],\"z\":[[0.921243999826134,0.8735869414047548,0.8152294971676046,0.6742636292472662,0.6722561075098147]],\"type\":\"heatmap\",\"xaxis\":\"x\",\"yaxis\":\"y\",\"hovertemplate\":\"\\uc720\\uc0ac\\ud55c \\uc9c0\\uc5ed: %{x}\\u003cbr\\u003e\\uae30\\uc900 \\uc9c0\\uc5ed: %{y}\\u003cbr\\u003e\\uc720\\uc0ac\\ub3c4: %{z}\\u003cextra\\u003e\\u003c\\u002fextra\\u003e\"}],                        {\"template\":{\"data\":{\"histogram2dcontour\":[{\"type\":\"histogram2dcontour\",\"colorbar\":{\"outlinewidth\":0,\"ticks\":\"\"},\"colorscale\":[[0.0,\"#0d0887\"],[0.1111111111111111,\"#46039f\"],[0.2222222222222222,\"#7201a8\"],[0.3333333333333333,\"#9c179e\"],[0.4444444444444444,\"#bd3786\"],[0.5555555555555556,\"#d8576b\"],[0.6666666666666666,\"#ed7953\"],[0.7777777777777778,\"#fb9f3a\"],[0.8888888888888888,\"#fdca26\"],[1.0,\"#f0f921\"]]}],\"choropleth\":[{\"type\":\"choropleth\",\"colorbar\":{\"outlinewidth\":0,\"ticks\":\"\"}}],\"histogram2d\":[{\"type\":\"histogram2d\",\"colorbar\":{\"outlinewidth\":0,\"ticks\":\"\"},\"colorscale\":[[0.0,\"#0d0887\"],[0.1111111111111111,\"#46039f\"],[0.2222222222222222,\"#7201a8\"],[0.3333333333333333,\"#9c179e\"],[0.4444444444444444,\"#bd3786\"],[0.5555555555555556,\"#d8576b\"],[0.6666666666666666,\"#ed7953\"],[0.7777777777777778,\"#fb9f3a\"],[0.8888888888888888,\"#fdca26\"],[1.0,\"#f0f921\"]]}],\"heatmap\":[{\"type\":\"heatmap\",\"colorbar\":{\"outlinewidth\":0,\"ticks\":\"\"},\"colorscale\":[[0.0,\"#0d0887\"],[0.1111111111111111,\"#46039f\"],[0.2222222222222222,\"#7201a8\"],[0.3333333333333333,\"#9c179e\"],[0.4444444444444444,\"#bd3786\"],[0.5555555555555556,\"#d8576b\"],[0.6666666666666666,\"#ed7953\"],[0.7777777777777778,\"#fb9f3a\"],[0.8888888888888888,\"#fdca26\"],[1.0,\"#f0f921\"]]}],\"heatmapgl\":[{\"type\":\"heatmapgl\",\"colorbar\":{\"outlinewidth\":0,\"ticks\":\"\"},\"colorscale\":[[0.0,\"#0d0887\"],[0.1111111111111111,\"#46039f\"],[0.2222222222222222,\"#7201a8\"],[0.3333333333333333,\"#9c179e\"],[0.4444444444444444,\"#bd3786\"],[0.5555555555555556,\"#d8576b\"],[0.6666666666666666,\"#ed7953\"],[0.7777777777777778,\"#fb9f3a\"],[0.8888888888888888,\"#fdca26\"],[1.0,\"#f0f921\"]]}],\"contourcarpet\":[{\"type\":\"contourcarpet\",\"colorbar\":{\"outlinewidth\":0,\"ticks\":\"\"}}],\"contour\":[{\"type\":\"contour\",\"colorbar\":{\"outlinewidth\":0,\"ticks\":\"\"},\"colorscale\":[[0.0,\"#0d0887\"],[0.1111111111111111,\"#46039f\"],[0.2222222222222222,\"#7201a8\"],[0.3333333333333333,\"#9c179e\"],[0.4444444444444444,\"#bd3786\"],[0.5555555555555556,\"#d8576b\"],[0.6666666666666666,\"#ed7953\"],[0.7777777777777778,\"#fb9f3a\"],[0.8888888888888888,\"#fdca26\"],[1.0,\"#f0f921\"]]}],\"surface\":[{\"type\":\"surface\",\"colorbar\":{\"outlinewidth\":0,\"ticks\":\"\"},\"colorscale\":[[0.0,\"#0d0887\"],[0.1111111111111111,\"#46039f\"],[0.2222222222222222,\"#7201a8\"],[0.3333333333333333,\"#9c179e\"],[0.4444444444444444,\"#bd3786\"],[0.5555555555555556,\"#d8576b\"],[0.6666666666666666,\"#ed7953\"],[0.7777777777777778,\"#fb9f3a\"],[0.8888888888888888,\"#fdca26\"],[1.0,\"#f0f921\"]]}],\"mesh3d\":[{\"type\":\"mesh3d\",\"colorbar\":{\"outlinewidth\":0,\"ticks\":\"\"}}],\"scatter\":[{\"marker\":{\"line\":{\"color\":\"#283442\"}},\"type\":\"scatter\"}],\"parcoords\":[{\"type\":\"parcoords\",\"line\":{\"colorbar\":{\"outlinewidth\":0,\"ticks\":\"\"}}}],\"scatterpolargl\":[{\"type\":\"scatterpolargl\",\"marker\":{\"colorbar\":{\"outlinewidth\":0,\"ticks\":\"\"}}}],\"bar\":[{\"error_x\":{\"color\":\"#f2f5fa\"},\"error_y\":{\"color\":\"#f2f5fa\"},\"marker\":{\"line\":{\"color\":\"rgb(17,17,17)\",\"width\":0.5},\"pattern\":{\"fillmode\":\"overlay\",\"size\":10,\"solidity\":0.2}},\"type\":\"bar\"}],\"scattergeo\":[{\"type\":\"scattergeo\",\"marker\":{\"colorbar\":{\"outlinewidth\":0,\"ticks\":\"\"}}}],\"scatterpolar\":[{\"type\":\"scatterpolar\",\"marker\":{\"colorbar\":{\"outlinewidth\":0,\"ticks\":\"\"}}}],\"histogram\":[{\"marker\":{\"pattern\":{\"fillmode\":\"overlay\",\"size\":10,\"solidity\":0.2}},\"type\":\"histogram\"}],\"scattergl\":[{\"marker\":{\"line\":{\"color\":\"#283442\"}},\"type\":\"scattergl\"}],\"scatter3d\":[{\"type\":\"scatter3d\",\"line\":{\"colorbar\":{\"outlinewidth\":0,\"ticks\":\"\"}},\"marker\":{\"colorbar\":{\"outlinewidth\":0,\"ticks\":\"\"}}}],\"scattermapbox\":[{\"type\":\"scattermapbox\",\"marker\":{\"colorbar\":{\"outlinewidth\":0,\"ticks\":\"\"}}}],\"scatterternary\":[{\"type\":\"scatterternary\",\"marker\":{\"colorbar\":{\"outlinewidth\":0,\"ticks\":\"\"}}}],\"scattercarpet\":[{\"type\":\"scattercarpet\",\"marker\":{\"colorbar\":{\"outlinewidth\":0,\"ticks\":\"\"}}}],\"carpet\":[{\"aaxis\":{\"endlinecolor\":\"#A2B1C6\",\"gridcolor\":\"#506784\",\"linecolor\":\"#506784\",\"minorgridcolor\":\"#506784\",\"startlinecolor\":\"#A2B1C6\"},\"baxis\":{\"endlinecolor\":\"#A2B1C6\",\"gridcolor\":\"#506784\",\"linecolor\":\"#506784\",\"minorgridcolor\":\"#506784\",\"startlinecolor\":\"#A2B1C6\"},\"type\":\"carpet\"}],\"table\":[{\"cells\":{\"fill\":{\"color\":\"#506784\"},\"line\":{\"color\":\"rgb(17,17,17)\"}},\"header\":{\"fill\":{\"color\":\"#2a3f5f\"},\"line\":{\"color\":\"rgb(17,17,17)\"}},\"type\":\"table\"}],\"barpolar\":[{\"marker\":{\"line\":{\"color\":\"rgb(17,17,17)\",\"width\":0.5},\"pattern\":{\"fillmode\":\"overlay\",\"size\":10,\"solidity\":0.2}},\"type\":\"barpolar\"}],\"pie\":[{\"automargin\":true,\"type\":\"pie\"}]},\"layout\":{\"autotypenumbers\":\"strict\",\"colorway\":[\"#636efa\",\"#EF553B\",\"#00cc96\",\"#ab63fa\",\"#FFA15A\",\"#19d3f3\",\"#FF6692\",\"#B6E880\",\"#FF97FF\",\"#FECB52\"],\"font\":{\"color\":\"#f2f5fa\"},\"hovermode\":\"closest\",\"hoverlabel\":{\"align\":\"left\"},\"paper_bgcolor\":\"rgb(17,17,17)\",\"plot_bgcolor\":\"rgb(17,17,17)\",\"polar\":{\"bgcolor\":\"rgb(17,17,17)\",\"angularaxis\":{\"gridcolor\":\"#506784\",\"linecolor\":\"#506784\",\"ticks\":\"\"},\"radialaxis\":{\"gridcolor\":\"#506784\",\"linecolor\":\"#506784\",\"ticks\":\"\"}},\"ternary\":{\"bgcolor\":\"rgb(17,17,17)\",\"aaxis\":{\"gridcolor\":\"#506784\",\"linecolor\":\"#506784\",\"ticks\":\"\"},\"baxis\":{\"gridcolor\":\"#506784\",\"linecolor\":\"#506784\",\"ticks\":\"\"},\"caxis\":{\"gridcolor\":\"#506784\",\"linecolor\":\"#506784\",\"ticks\":\"\"}},\"coloraxis\":{\"colorbar\":{\"outlinewidth\":0,\"ticks\":\"\"}},\"colorscale\":{\"sequential\":[[0.0,\"#0d0887\"],[0.1111111111111111,\"#46039f\"],[0.2222222222222222,\"#7201a8\"],[0.3333333333333333,\"#9c179e\"],[0.4444444444444444,\"#bd3786\"],[0.5555555555555556,\"#d8576b\"],[0.6666666666666666,\"#ed7953\"],[0.7777777777777778,\"#fb9f3a\"],[0.8888888888888888,\"#fdca26\"],[1.0,\"#f0f921\"]],\"sequentialminus\":[[0.0,\"#0d0887\"],[0.1111111111111111,\"#46039f\"],[0.2222222222222222,\"#7201a8\"],[0.3333333333333333,\"#9c179e\"],[0.4444444444444444,\"#bd3786\"],[0.5555555555555556,\"#d8576b\"],[0.6666666666666666,\"#ed7953\"],[0.7777777777777778,\"#fb9f3a\"],[0.8888888888888888,\"#fdca26\"],[1.0,\"#f0f921\"]],\"diverging\":[[0,\"#8e0152\"],[0.1,\"#c51b7d\"],[0.2,\"#de77ae\"],[0.3,\"#f1b6da\"],[0.4,\"#fde0ef\"],[0.5,\"#f7f7f7\"],[0.6,\"#e6f5d0\"],[0.7,\"#b8e186\"],[0.8,\"#7fbc41\"],[0.9,\"#4d9221\"],[1,\"#276419\"]]},\"xaxis\":{\"gridcolor\":\"#283442\",\"linecolor\":\"#506784\",\"ticks\":\"\",\"title\":{\"standoff\":15},\"zerolinecolor\":\"#283442\",\"automargin\":true,\"zerolinewidth\":2},\"yaxis\":{\"gridcolor\":\"#283442\",\"linecolor\":\"#506784\",\"ticks\":\"\",\"title\":{\"standoff\":15},\"zerolinecolor\":\"#283442\",\"automargin\":true,\"zerolinewidth\":2},\"scene\":{\"xaxis\":{\"backgroundcolor\":\"rgb(17,17,17)\",\"gridcolor\":\"#506784\",\"linecolor\":\"#506784\",\"showbackground\":true,\"ticks\":\"\",\"zerolinecolor\":\"#C8D4E3\",\"gridwidth\":2},\"yaxis\":{\"backgroundcolor\":\"rgb(17,17,17)\",\"gridcolor\":\"#506784\",\"linecolor\":\"#506784\",\"showbackground\":true,\"ticks\":\"\",\"zerolinecolor\":\"#C8D4E3\",\"gridwidth\":2},\"zaxis\":{\"backgroundcolor\":\"rgb(17,17,17)\",\"gridcolor\":\"#506784\",\"linecolor\":\"#506784\",\"showbackground\":true,\"ticks\":\"\",\"zerolinecolor\":\"#C8D4E3\",\"gridwidth\":2}},\"shapedefaults\":{\"line\":{\"color\":\"#f2f5fa\"}},\"annotationdefaults\":{\"arrowcolor\":\"#f2f5fa\",\"arrowhead\":0,\"arrowwidth\":1},\"geo\":{\"bgcolor\":\"rgb(17,17,17)\",\"landcolor\":\"rgb(17,17,17)\",\"subunitcolor\":\"#506784\",\"showland\":true,\"showlakes\":true,\"lakecolor\":\"rgb(17,17,17)\"},\"title\":{\"x\":0.05},\"updatemenudefaults\":{\"bgcolor\":\"#506784\",\"borderwidth\":0},\"sliderdefaults\":{\"bgcolor\":\"#C8D4E3\",\"borderwidth\":1,\"bordercolor\":\"rgb(17,17,17)\",\"tickwidth\":0},\"mapbox\":{\"style\":\"dark\"}}},\"xaxis\":{\"anchor\":\"y\",\"domain\":[0.0,1.0],\"scaleanchor\":\"y\",\"constrain\":\"domain\",\"title\":{\"text\":\"\\uc720\\uc0ac\\ud55c \\uc9c0\\uc5ed\"}},\"yaxis\":{\"anchor\":\"x\",\"domain\":[0.0,1.0],\"autorange\":\"reversed\",\"constrain\":\"domain\",\"title\":{\"text\":\"\\uae30\\uc900 \\uc9c0\\uc5ed\"}},\"coloraxis\":{\"colorbar\":{\"title\":{\"text\":\"\\uc720\\uc0ac\\ub3c4\"}},\"colorscale\":[[0.0,\"rgb(247,251,255)\"],[0.125,\"rgb(222,235,247)\"],[0.25,\"rgb(198,219,239)\"],[0.375,\"rgb(158,202,225)\"],[0.5,\"rgb(107,174,214)\"],[0.625,\"rgb(66,146,198)\"],[0.75,\"rgb(33,113,181)\"],[0.875,\"rgb(8,81,156)\"],[1.0,\"rgb(8,48,107)\"]]},\"title\":{\"text\":\"\\uacbd\\uc8fc\\uc2dc\\uacfc \\uc720\\uc0ac\\ud55c \\uc0c1\\uc704 5\\uac1c \\uc9c0\\uc5ed\"}},                        {\"responsive\": true}                    ).then(function(){\n                            \nvar gd = document.getElementById('46055b48-40d7-4e52-9289-4f1d76d3c87a');\nvar x = new MutationObserver(function (mutations, observer) {{\n        var display = window.getComputedStyle(gd).display;\n        if (!display || display === 'none') {{\n            console.log([gd, 'removed!']);\n            Plotly.purge(gd);\n            observer.disconnect();\n        }}\n}});\n\n// Listen for the removal of the full notebook cells\nvar notebookContainer = gd.closest('#notebook-container');\nif (notebookContainer) {{\n    x.observe(notebookContainer, {childList: true});\n}}\n\n// Listen for the clearing of the current output cell\nvar outputEl = gd.closest('.output');\nif (outputEl) {{\n    x.observe(outputEl, {childList: true});\n}}\n\n                        })                };                });            </script>        </div>"
     },
     "metadata": {},
     "output_type": "display_data"
    },
    {
     "data": {
      "application/vnd.plotly.v1+json": {
       "data": [
        {
         "coloraxis": "coloraxis",
         "name": "0",
         "texttemplate": "%{z}",
         "x": [
          "아산시",
          "당진시",
          "충주시",
          "서산시",
          "보령시"
         ],
         "y": [
          "김해시"
         ],
         "z": [
          [
           0.9550680547968543,
           0.8895989462505811,
           0.8604122442864904,
           0.6642497740807056,
           0.6451196016624512
          ]
         ],
         "type": "heatmap",
         "xaxis": "x",
         "yaxis": "y",
         "hovertemplate": "유사한 지역: %{x}<br>기준 지역: %{y}<br>유사도: %{z}<extra></extra>"
        }
       ],
       "layout": {
        "template": {
         "data": {
          "histogram2dcontour": [
           {
            "type": "histogram2dcontour",
            "colorbar": {
             "outlinewidth": 0,
             "ticks": ""
            },
            "colorscale": [
             [
              0.0,
              "#0d0887"
             ],
             [
              0.1111111111111111,
              "#46039f"
             ],
             [
              0.2222222222222222,
              "#7201a8"
             ],
             [
              0.3333333333333333,
              "#9c179e"
             ],
             [
              0.4444444444444444,
              "#bd3786"
             ],
             [
              0.5555555555555556,
              "#d8576b"
             ],
             [
              0.6666666666666666,
              "#ed7953"
             ],
             [
              0.7777777777777778,
              "#fb9f3a"
             ],
             [
              0.8888888888888888,
              "#fdca26"
             ],
             [
              1.0,
              "#f0f921"
             ]
            ]
           }
          ],
          "choropleth": [
           {
            "type": "choropleth",
            "colorbar": {
             "outlinewidth": 0,
             "ticks": ""
            }
           }
          ],
          "histogram2d": [
           {
            "type": "histogram2d",
            "colorbar": {
             "outlinewidth": 0,
             "ticks": ""
            },
            "colorscale": [
             [
              0.0,
              "#0d0887"
             ],
             [
              0.1111111111111111,
              "#46039f"
             ],
             [
              0.2222222222222222,
              "#7201a8"
             ],
             [
              0.3333333333333333,
              "#9c179e"
             ],
             [
              0.4444444444444444,
              "#bd3786"
             ],
             [
              0.5555555555555556,
              "#d8576b"
             ],
             [
              0.6666666666666666,
              "#ed7953"
             ],
             [
              0.7777777777777778,
              "#fb9f3a"
             ],
             [
              0.8888888888888888,
              "#fdca26"
             ],
             [
              1.0,
              "#f0f921"
             ]
            ]
           }
          ],
          "heatmap": [
           {
            "type": "heatmap",
            "colorbar": {
             "outlinewidth": 0,
             "ticks": ""
            },
            "colorscale": [
             [
              0.0,
              "#0d0887"
             ],
             [
              0.1111111111111111,
              "#46039f"
             ],
             [
              0.2222222222222222,
              "#7201a8"
             ],
             [
              0.3333333333333333,
              "#9c179e"
             ],
             [
              0.4444444444444444,
              "#bd3786"
             ],
             [
              0.5555555555555556,
              "#d8576b"
             ],
             [
              0.6666666666666666,
              "#ed7953"
             ],
             [
              0.7777777777777778,
              "#fb9f3a"
             ],
             [
              0.8888888888888888,
              "#fdca26"
             ],
             [
              1.0,
              "#f0f921"
             ]
            ]
           }
          ],
          "heatmapgl": [
           {
            "type": "heatmapgl",
            "colorbar": {
             "outlinewidth": 0,
             "ticks": ""
            },
            "colorscale": [
             [
              0.0,
              "#0d0887"
             ],
             [
              0.1111111111111111,
              "#46039f"
             ],
             [
              0.2222222222222222,
              "#7201a8"
             ],
             [
              0.3333333333333333,
              "#9c179e"
             ],
             [
              0.4444444444444444,
              "#bd3786"
             ],
             [
              0.5555555555555556,
              "#d8576b"
             ],
             [
              0.6666666666666666,
              "#ed7953"
             ],
             [
              0.7777777777777778,
              "#fb9f3a"
             ],
             [
              0.8888888888888888,
              "#fdca26"
             ],
             [
              1.0,
              "#f0f921"
             ]
            ]
           }
          ],
          "contourcarpet": [
           {
            "type": "contourcarpet",
            "colorbar": {
             "outlinewidth": 0,
             "ticks": ""
            }
           }
          ],
          "contour": [
           {
            "type": "contour",
            "colorbar": {
             "outlinewidth": 0,
             "ticks": ""
            },
            "colorscale": [
             [
              0.0,
              "#0d0887"
             ],
             [
              0.1111111111111111,
              "#46039f"
             ],
             [
              0.2222222222222222,
              "#7201a8"
             ],
             [
              0.3333333333333333,
              "#9c179e"
             ],
             [
              0.4444444444444444,
              "#bd3786"
             ],
             [
              0.5555555555555556,
              "#d8576b"
             ],
             [
              0.6666666666666666,
              "#ed7953"
             ],
             [
              0.7777777777777778,
              "#fb9f3a"
             ],
             [
              0.8888888888888888,
              "#fdca26"
             ],
             [
              1.0,
              "#f0f921"
             ]
            ]
           }
          ],
          "surface": [
           {
            "type": "surface",
            "colorbar": {
             "outlinewidth": 0,
             "ticks": ""
            },
            "colorscale": [
             [
              0.0,
              "#0d0887"
             ],
             [
              0.1111111111111111,
              "#46039f"
             ],
             [
              0.2222222222222222,
              "#7201a8"
             ],
             [
              0.3333333333333333,
              "#9c179e"
             ],
             [
              0.4444444444444444,
              "#bd3786"
             ],
             [
              0.5555555555555556,
              "#d8576b"
             ],
             [
              0.6666666666666666,
              "#ed7953"
             ],
             [
              0.7777777777777778,
              "#fb9f3a"
             ],
             [
              0.8888888888888888,
              "#fdca26"
             ],
             [
              1.0,
              "#f0f921"
             ]
            ]
           }
          ],
          "mesh3d": [
           {
            "type": "mesh3d",
            "colorbar": {
             "outlinewidth": 0,
             "ticks": ""
            }
           }
          ],
          "scatter": [
           {
            "marker": {
             "line": {
              "color": "#283442"
             }
            },
            "type": "scatter"
           }
          ],
          "parcoords": [
           {
            "type": "parcoords",
            "line": {
             "colorbar": {
              "outlinewidth": 0,
              "ticks": ""
             }
            }
           }
          ],
          "scatterpolargl": [
           {
            "type": "scatterpolargl",
            "marker": {
             "colorbar": {
              "outlinewidth": 0,
              "ticks": ""
             }
            }
           }
          ],
          "bar": [
           {
            "error_x": {
             "color": "#f2f5fa"
            },
            "error_y": {
             "color": "#f2f5fa"
            },
            "marker": {
             "line": {
              "color": "rgb(17,17,17)",
              "width": 0.5
             },
             "pattern": {
              "fillmode": "overlay",
              "size": 10,
              "solidity": 0.2
             }
            },
            "type": "bar"
           }
          ],
          "scattergeo": [
           {
            "type": "scattergeo",
            "marker": {
             "colorbar": {
              "outlinewidth": 0,
              "ticks": ""
             }
            }
           }
          ],
          "scatterpolar": [
           {
            "type": "scatterpolar",
            "marker": {
             "colorbar": {
              "outlinewidth": 0,
              "ticks": ""
             }
            }
           }
          ],
          "histogram": [
           {
            "marker": {
             "pattern": {
              "fillmode": "overlay",
              "size": 10,
              "solidity": 0.2
             }
            },
            "type": "histogram"
           }
          ],
          "scattergl": [
           {
            "marker": {
             "line": {
              "color": "#283442"
             }
            },
            "type": "scattergl"
           }
          ],
          "scatter3d": [
           {
            "type": "scatter3d",
            "line": {
             "colorbar": {
              "outlinewidth": 0,
              "ticks": ""
             }
            },
            "marker": {
             "colorbar": {
              "outlinewidth": 0,
              "ticks": ""
             }
            }
           }
          ],
          "scattermapbox": [
           {
            "type": "scattermapbox",
            "marker": {
             "colorbar": {
              "outlinewidth": 0,
              "ticks": ""
             }
            }
           }
          ],
          "scatterternary": [
           {
            "type": "scatterternary",
            "marker": {
             "colorbar": {
              "outlinewidth": 0,
              "ticks": ""
             }
            }
           }
          ],
          "scattercarpet": [
           {
            "type": "scattercarpet",
            "marker": {
             "colorbar": {
              "outlinewidth": 0,
              "ticks": ""
             }
            }
           }
          ],
          "carpet": [
           {
            "aaxis": {
             "endlinecolor": "#A2B1C6",
             "gridcolor": "#506784",
             "linecolor": "#506784",
             "minorgridcolor": "#506784",
             "startlinecolor": "#A2B1C6"
            },
            "baxis": {
             "endlinecolor": "#A2B1C6",
             "gridcolor": "#506784",
             "linecolor": "#506784",
             "minorgridcolor": "#506784",
             "startlinecolor": "#A2B1C6"
            },
            "type": "carpet"
           }
          ],
          "table": [
           {
            "cells": {
             "fill": {
              "color": "#506784"
             },
             "line": {
              "color": "rgb(17,17,17)"
             }
            },
            "header": {
             "fill": {
              "color": "#2a3f5f"
             },
             "line": {
              "color": "rgb(17,17,17)"
             }
            },
            "type": "table"
           }
          ],
          "barpolar": [
           {
            "marker": {
             "line": {
              "color": "rgb(17,17,17)",
              "width": 0.5
             },
             "pattern": {
              "fillmode": "overlay",
              "size": 10,
              "solidity": 0.2
             }
            },
            "type": "barpolar"
           }
          ],
          "pie": [
           {
            "automargin": true,
            "type": "pie"
           }
          ]
         },
         "layout": {
          "autotypenumbers": "strict",
          "colorway": [
           "#636efa",
           "#EF553B",
           "#00cc96",
           "#ab63fa",
           "#FFA15A",
           "#19d3f3",
           "#FF6692",
           "#B6E880",
           "#FF97FF",
           "#FECB52"
          ],
          "font": {
           "color": "#f2f5fa"
          },
          "hovermode": "closest",
          "hoverlabel": {
           "align": "left"
          },
          "paper_bgcolor": "rgb(17,17,17)",
          "plot_bgcolor": "rgb(17,17,17)",
          "polar": {
           "bgcolor": "rgb(17,17,17)",
           "angularaxis": {
            "gridcolor": "#506784",
            "linecolor": "#506784",
            "ticks": ""
           },
           "radialaxis": {
            "gridcolor": "#506784",
            "linecolor": "#506784",
            "ticks": ""
           }
          },
          "ternary": {
           "bgcolor": "rgb(17,17,17)",
           "aaxis": {
            "gridcolor": "#506784",
            "linecolor": "#506784",
            "ticks": ""
           },
           "baxis": {
            "gridcolor": "#506784",
            "linecolor": "#506784",
            "ticks": ""
           },
           "caxis": {
            "gridcolor": "#506784",
            "linecolor": "#506784",
            "ticks": ""
           }
          },
          "coloraxis": {
           "colorbar": {
            "outlinewidth": 0,
            "ticks": ""
           }
          },
          "colorscale": {
           "sequential": [
            [
             0.0,
             "#0d0887"
            ],
            [
             0.1111111111111111,
             "#46039f"
            ],
            [
             0.2222222222222222,
             "#7201a8"
            ],
            [
             0.3333333333333333,
             "#9c179e"
            ],
            [
             0.4444444444444444,
             "#bd3786"
            ],
            [
             0.5555555555555556,
             "#d8576b"
            ],
            [
             0.6666666666666666,
             "#ed7953"
            ],
            [
             0.7777777777777778,
             "#fb9f3a"
            ],
            [
             0.8888888888888888,
             "#fdca26"
            ],
            [
             1.0,
             "#f0f921"
            ]
           ],
           "sequentialminus": [
            [
             0.0,
             "#0d0887"
            ],
            [
             0.1111111111111111,
             "#46039f"
            ],
            [
             0.2222222222222222,
             "#7201a8"
            ],
            [
             0.3333333333333333,
             "#9c179e"
            ],
            [
             0.4444444444444444,
             "#bd3786"
            ],
            [
             0.5555555555555556,
             "#d8576b"
            ],
            [
             0.6666666666666666,
             "#ed7953"
            ],
            [
             0.7777777777777778,
             "#fb9f3a"
            ],
            [
             0.8888888888888888,
             "#fdca26"
            ],
            [
             1.0,
             "#f0f921"
            ]
           ],
           "diverging": [
            [
             0,
             "#8e0152"
            ],
            [
             0.1,
             "#c51b7d"
            ],
            [
             0.2,
             "#de77ae"
            ],
            [
             0.3,
             "#f1b6da"
            ],
            [
             0.4,
             "#fde0ef"
            ],
            [
             0.5,
             "#f7f7f7"
            ],
            [
             0.6,
             "#e6f5d0"
            ],
            [
             0.7,
             "#b8e186"
            ],
            [
             0.8,
             "#7fbc41"
            ],
            [
             0.9,
             "#4d9221"
            ],
            [
             1,
             "#276419"
            ]
           ]
          },
          "xaxis": {
           "gridcolor": "#283442",
           "linecolor": "#506784",
           "ticks": "",
           "title": {
            "standoff": 15
           },
           "zerolinecolor": "#283442",
           "automargin": true,
           "zerolinewidth": 2
          },
          "yaxis": {
           "gridcolor": "#283442",
           "linecolor": "#506784",
           "ticks": "",
           "title": {
            "standoff": 15
           },
           "zerolinecolor": "#283442",
           "automargin": true,
           "zerolinewidth": 2
          },
          "scene": {
           "xaxis": {
            "backgroundcolor": "rgb(17,17,17)",
            "gridcolor": "#506784",
            "linecolor": "#506784",
            "showbackground": true,
            "ticks": "",
            "zerolinecolor": "#C8D4E3",
            "gridwidth": 2
           },
           "yaxis": {
            "backgroundcolor": "rgb(17,17,17)",
            "gridcolor": "#506784",
            "linecolor": "#506784",
            "showbackground": true,
            "ticks": "",
            "zerolinecolor": "#C8D4E3",
            "gridwidth": 2
           },
           "zaxis": {
            "backgroundcolor": "rgb(17,17,17)",
            "gridcolor": "#506784",
            "linecolor": "#506784",
            "showbackground": true,
            "ticks": "",
            "zerolinecolor": "#C8D4E3",
            "gridwidth": 2
           }
          },
          "shapedefaults": {
           "line": {
            "color": "#f2f5fa"
           }
          },
          "annotationdefaults": {
           "arrowcolor": "#f2f5fa",
           "arrowhead": 0,
           "arrowwidth": 1
          },
          "geo": {
           "bgcolor": "rgb(17,17,17)",
           "landcolor": "rgb(17,17,17)",
           "subunitcolor": "#506784",
           "showland": true,
           "showlakes": true,
           "lakecolor": "rgb(17,17,17)"
          },
          "title": {
           "x": 0.05
          },
          "updatemenudefaults": {
           "bgcolor": "#506784",
           "borderwidth": 0
          },
          "sliderdefaults": {
           "bgcolor": "#C8D4E3",
           "borderwidth": 1,
           "bordercolor": "rgb(17,17,17)",
           "tickwidth": 0
          },
          "mapbox": {
           "style": "dark"
          }
         }
        },
        "xaxis": {
         "anchor": "y",
         "domain": [
          0.0,
          1.0
         ],
         "scaleanchor": "y",
         "constrain": "domain",
         "title": {
          "text": "유사한 지역"
         }
        },
        "yaxis": {
         "anchor": "x",
         "domain": [
          0.0,
          1.0
         ],
         "autorange": "reversed",
         "constrain": "domain",
         "title": {
          "text": "기준 지역"
         }
        },
        "coloraxis": {
         "colorbar": {
          "title": {
           "text": "유사도"
          }
         },
         "colorscale": [
          [
           0.0,
           "rgb(247,251,255)"
          ],
          [
           0.125,
           "rgb(222,235,247)"
          ],
          [
           0.25,
           "rgb(198,219,239)"
          ],
          [
           0.375,
           "rgb(158,202,225)"
          ],
          [
           0.5,
           "rgb(107,174,214)"
          ],
          [
           0.625,
           "rgb(66,146,198)"
          ],
          [
           0.75,
           "rgb(33,113,181)"
          ],
          [
           0.875,
           "rgb(8,81,156)"
          ],
          [
           1.0,
           "rgb(8,48,107)"
          ]
         ]
        },
        "title": {
         "text": "김해시과 유사한 상위 5개 지역"
        }
       },
       "config": {
        "plotlyServerURL": "https://plot.ly"
       }
      },
      "text/html": "<div>                            <div id=\"5573e565-86de-47e6-a1ca-569179c90c2a\" class=\"plotly-graph-div\" style=\"height:525px; width:100%;\"></div>            <script type=\"text/javascript\">                require([\"plotly\"], function(Plotly) {                    window.PLOTLYENV=window.PLOTLYENV || {};                                    if (document.getElementById(\"5573e565-86de-47e6-a1ca-569179c90c2a\")) {                    Plotly.newPlot(                        \"5573e565-86de-47e6-a1ca-569179c90c2a\",                        [{\"coloraxis\":\"coloraxis\",\"name\":\"0\",\"texttemplate\":\"%{z}\",\"x\":[\"\\uc544\\uc0b0\\uc2dc\",\"\\ub2f9\\uc9c4\\uc2dc\",\"\\ucda9\\uc8fc\\uc2dc\",\"\\uc11c\\uc0b0\\uc2dc\",\"\\ubcf4\\ub839\\uc2dc\"],\"y\":[\"\\uae40\\ud574\\uc2dc\"],\"z\":[[0.9550680547968543,0.8895989462505811,0.8604122442864904,0.6642497740807056,0.6451196016624512]],\"type\":\"heatmap\",\"xaxis\":\"x\",\"yaxis\":\"y\",\"hovertemplate\":\"\\uc720\\uc0ac\\ud55c \\uc9c0\\uc5ed: %{x}\\u003cbr\\u003e\\uae30\\uc900 \\uc9c0\\uc5ed: %{y}\\u003cbr\\u003e\\uc720\\uc0ac\\ub3c4: %{z}\\u003cextra\\u003e\\u003c\\u002fextra\\u003e\"}],                        {\"template\":{\"data\":{\"histogram2dcontour\":[{\"type\":\"histogram2dcontour\",\"colorbar\":{\"outlinewidth\":0,\"ticks\":\"\"},\"colorscale\":[[0.0,\"#0d0887\"],[0.1111111111111111,\"#46039f\"],[0.2222222222222222,\"#7201a8\"],[0.3333333333333333,\"#9c179e\"],[0.4444444444444444,\"#bd3786\"],[0.5555555555555556,\"#d8576b\"],[0.6666666666666666,\"#ed7953\"],[0.7777777777777778,\"#fb9f3a\"],[0.8888888888888888,\"#fdca26\"],[1.0,\"#f0f921\"]]}],\"choropleth\":[{\"type\":\"choropleth\",\"colorbar\":{\"outlinewidth\":0,\"ticks\":\"\"}}],\"histogram2d\":[{\"type\":\"histogram2d\",\"colorbar\":{\"outlinewidth\":0,\"ticks\":\"\"},\"colorscale\":[[0.0,\"#0d0887\"],[0.1111111111111111,\"#46039f\"],[0.2222222222222222,\"#7201a8\"],[0.3333333333333333,\"#9c179e\"],[0.4444444444444444,\"#bd3786\"],[0.5555555555555556,\"#d8576b\"],[0.6666666666666666,\"#ed7953\"],[0.7777777777777778,\"#fb9f3a\"],[0.8888888888888888,\"#fdca26\"],[1.0,\"#f0f921\"]]}],\"heatmap\":[{\"type\":\"heatmap\",\"colorbar\":{\"outlinewidth\":0,\"ticks\":\"\"},\"colorscale\":[[0.0,\"#0d0887\"],[0.1111111111111111,\"#46039f\"],[0.2222222222222222,\"#7201a8\"],[0.3333333333333333,\"#9c179e\"],[0.4444444444444444,\"#bd3786\"],[0.5555555555555556,\"#d8576b\"],[0.6666666666666666,\"#ed7953\"],[0.7777777777777778,\"#fb9f3a\"],[0.8888888888888888,\"#fdca26\"],[1.0,\"#f0f921\"]]}],\"heatmapgl\":[{\"type\":\"heatmapgl\",\"colorbar\":{\"outlinewidth\":0,\"ticks\":\"\"},\"colorscale\":[[0.0,\"#0d0887\"],[0.1111111111111111,\"#46039f\"],[0.2222222222222222,\"#7201a8\"],[0.3333333333333333,\"#9c179e\"],[0.4444444444444444,\"#bd3786\"],[0.5555555555555556,\"#d8576b\"],[0.6666666666666666,\"#ed7953\"],[0.7777777777777778,\"#fb9f3a\"],[0.8888888888888888,\"#fdca26\"],[1.0,\"#f0f921\"]]}],\"contourcarpet\":[{\"type\":\"contourcarpet\",\"colorbar\":{\"outlinewidth\":0,\"ticks\":\"\"}}],\"contour\":[{\"type\":\"contour\",\"colorbar\":{\"outlinewidth\":0,\"ticks\":\"\"},\"colorscale\":[[0.0,\"#0d0887\"],[0.1111111111111111,\"#46039f\"],[0.2222222222222222,\"#7201a8\"],[0.3333333333333333,\"#9c179e\"],[0.4444444444444444,\"#bd3786\"],[0.5555555555555556,\"#d8576b\"],[0.6666666666666666,\"#ed7953\"],[0.7777777777777778,\"#fb9f3a\"],[0.8888888888888888,\"#fdca26\"],[1.0,\"#f0f921\"]]}],\"surface\":[{\"type\":\"surface\",\"colorbar\":{\"outlinewidth\":0,\"ticks\":\"\"},\"colorscale\":[[0.0,\"#0d0887\"],[0.1111111111111111,\"#46039f\"],[0.2222222222222222,\"#7201a8\"],[0.3333333333333333,\"#9c179e\"],[0.4444444444444444,\"#bd3786\"],[0.5555555555555556,\"#d8576b\"],[0.6666666666666666,\"#ed7953\"],[0.7777777777777778,\"#fb9f3a\"],[0.8888888888888888,\"#fdca26\"],[1.0,\"#f0f921\"]]}],\"mesh3d\":[{\"type\":\"mesh3d\",\"colorbar\":{\"outlinewidth\":0,\"ticks\":\"\"}}],\"scatter\":[{\"marker\":{\"line\":{\"color\":\"#283442\"}},\"type\":\"scatter\"}],\"parcoords\":[{\"type\":\"parcoords\",\"line\":{\"colorbar\":{\"outlinewidth\":0,\"ticks\":\"\"}}}],\"scatterpolargl\":[{\"type\":\"scatterpolargl\",\"marker\":{\"colorbar\":{\"outlinewidth\":0,\"ticks\":\"\"}}}],\"bar\":[{\"error_x\":{\"color\":\"#f2f5fa\"},\"error_y\":{\"color\":\"#f2f5fa\"},\"marker\":{\"line\":{\"color\":\"rgb(17,17,17)\",\"width\":0.5},\"pattern\":{\"fillmode\":\"overlay\",\"size\":10,\"solidity\":0.2}},\"type\":\"bar\"}],\"scattergeo\":[{\"type\":\"scattergeo\",\"marker\":{\"colorbar\":{\"outlinewidth\":0,\"ticks\":\"\"}}}],\"scatterpolar\":[{\"type\":\"scatterpolar\",\"marker\":{\"colorbar\":{\"outlinewidth\":0,\"ticks\":\"\"}}}],\"histogram\":[{\"marker\":{\"pattern\":{\"fillmode\":\"overlay\",\"size\":10,\"solidity\":0.2}},\"type\":\"histogram\"}],\"scattergl\":[{\"marker\":{\"line\":{\"color\":\"#283442\"}},\"type\":\"scattergl\"}],\"scatter3d\":[{\"type\":\"scatter3d\",\"line\":{\"colorbar\":{\"outlinewidth\":0,\"ticks\":\"\"}},\"marker\":{\"colorbar\":{\"outlinewidth\":0,\"ticks\":\"\"}}}],\"scattermapbox\":[{\"type\":\"scattermapbox\",\"marker\":{\"colorbar\":{\"outlinewidth\":0,\"ticks\":\"\"}}}],\"scatterternary\":[{\"type\":\"scatterternary\",\"marker\":{\"colorbar\":{\"outlinewidth\":0,\"ticks\":\"\"}}}],\"scattercarpet\":[{\"type\":\"scattercarpet\",\"marker\":{\"colorbar\":{\"outlinewidth\":0,\"ticks\":\"\"}}}],\"carpet\":[{\"aaxis\":{\"endlinecolor\":\"#A2B1C6\",\"gridcolor\":\"#506784\",\"linecolor\":\"#506784\",\"minorgridcolor\":\"#506784\",\"startlinecolor\":\"#A2B1C6\"},\"baxis\":{\"endlinecolor\":\"#A2B1C6\",\"gridcolor\":\"#506784\",\"linecolor\":\"#506784\",\"minorgridcolor\":\"#506784\",\"startlinecolor\":\"#A2B1C6\"},\"type\":\"carpet\"}],\"table\":[{\"cells\":{\"fill\":{\"color\":\"#506784\"},\"line\":{\"color\":\"rgb(17,17,17)\"}},\"header\":{\"fill\":{\"color\":\"#2a3f5f\"},\"line\":{\"color\":\"rgb(17,17,17)\"}},\"type\":\"table\"}],\"barpolar\":[{\"marker\":{\"line\":{\"color\":\"rgb(17,17,17)\",\"width\":0.5},\"pattern\":{\"fillmode\":\"overlay\",\"size\":10,\"solidity\":0.2}},\"type\":\"barpolar\"}],\"pie\":[{\"automargin\":true,\"type\":\"pie\"}]},\"layout\":{\"autotypenumbers\":\"strict\",\"colorway\":[\"#636efa\",\"#EF553B\",\"#00cc96\",\"#ab63fa\",\"#FFA15A\",\"#19d3f3\",\"#FF6692\",\"#B6E880\",\"#FF97FF\",\"#FECB52\"],\"font\":{\"color\":\"#f2f5fa\"},\"hovermode\":\"closest\",\"hoverlabel\":{\"align\":\"left\"},\"paper_bgcolor\":\"rgb(17,17,17)\",\"plot_bgcolor\":\"rgb(17,17,17)\",\"polar\":{\"bgcolor\":\"rgb(17,17,17)\",\"angularaxis\":{\"gridcolor\":\"#506784\",\"linecolor\":\"#506784\",\"ticks\":\"\"},\"radialaxis\":{\"gridcolor\":\"#506784\",\"linecolor\":\"#506784\",\"ticks\":\"\"}},\"ternary\":{\"bgcolor\":\"rgb(17,17,17)\",\"aaxis\":{\"gridcolor\":\"#506784\",\"linecolor\":\"#506784\",\"ticks\":\"\"},\"baxis\":{\"gridcolor\":\"#506784\",\"linecolor\":\"#506784\",\"ticks\":\"\"},\"caxis\":{\"gridcolor\":\"#506784\",\"linecolor\":\"#506784\",\"ticks\":\"\"}},\"coloraxis\":{\"colorbar\":{\"outlinewidth\":0,\"ticks\":\"\"}},\"colorscale\":{\"sequential\":[[0.0,\"#0d0887\"],[0.1111111111111111,\"#46039f\"],[0.2222222222222222,\"#7201a8\"],[0.3333333333333333,\"#9c179e\"],[0.4444444444444444,\"#bd3786\"],[0.5555555555555556,\"#d8576b\"],[0.6666666666666666,\"#ed7953\"],[0.7777777777777778,\"#fb9f3a\"],[0.8888888888888888,\"#fdca26\"],[1.0,\"#f0f921\"]],\"sequentialminus\":[[0.0,\"#0d0887\"],[0.1111111111111111,\"#46039f\"],[0.2222222222222222,\"#7201a8\"],[0.3333333333333333,\"#9c179e\"],[0.4444444444444444,\"#bd3786\"],[0.5555555555555556,\"#d8576b\"],[0.6666666666666666,\"#ed7953\"],[0.7777777777777778,\"#fb9f3a\"],[0.8888888888888888,\"#fdca26\"],[1.0,\"#f0f921\"]],\"diverging\":[[0,\"#8e0152\"],[0.1,\"#c51b7d\"],[0.2,\"#de77ae\"],[0.3,\"#f1b6da\"],[0.4,\"#fde0ef\"],[0.5,\"#f7f7f7\"],[0.6,\"#e6f5d0\"],[0.7,\"#b8e186\"],[0.8,\"#7fbc41\"],[0.9,\"#4d9221\"],[1,\"#276419\"]]},\"xaxis\":{\"gridcolor\":\"#283442\",\"linecolor\":\"#506784\",\"ticks\":\"\",\"title\":{\"standoff\":15},\"zerolinecolor\":\"#283442\",\"automargin\":true,\"zerolinewidth\":2},\"yaxis\":{\"gridcolor\":\"#283442\",\"linecolor\":\"#506784\",\"ticks\":\"\",\"title\":{\"standoff\":15},\"zerolinecolor\":\"#283442\",\"automargin\":true,\"zerolinewidth\":2},\"scene\":{\"xaxis\":{\"backgroundcolor\":\"rgb(17,17,17)\",\"gridcolor\":\"#506784\",\"linecolor\":\"#506784\",\"showbackground\":true,\"ticks\":\"\",\"zerolinecolor\":\"#C8D4E3\",\"gridwidth\":2},\"yaxis\":{\"backgroundcolor\":\"rgb(17,17,17)\",\"gridcolor\":\"#506784\",\"linecolor\":\"#506784\",\"showbackground\":true,\"ticks\":\"\",\"zerolinecolor\":\"#C8D4E3\",\"gridwidth\":2},\"zaxis\":{\"backgroundcolor\":\"rgb(17,17,17)\",\"gridcolor\":\"#506784\",\"linecolor\":\"#506784\",\"showbackground\":true,\"ticks\":\"\",\"zerolinecolor\":\"#C8D4E3\",\"gridwidth\":2}},\"shapedefaults\":{\"line\":{\"color\":\"#f2f5fa\"}},\"annotationdefaults\":{\"arrowcolor\":\"#f2f5fa\",\"arrowhead\":0,\"arrowwidth\":1},\"geo\":{\"bgcolor\":\"rgb(17,17,17)\",\"landcolor\":\"rgb(17,17,17)\",\"subunitcolor\":\"#506784\",\"showland\":true,\"showlakes\":true,\"lakecolor\":\"rgb(17,17,17)\"},\"title\":{\"x\":0.05},\"updatemenudefaults\":{\"bgcolor\":\"#506784\",\"borderwidth\":0},\"sliderdefaults\":{\"bgcolor\":\"#C8D4E3\",\"borderwidth\":1,\"bordercolor\":\"rgb(17,17,17)\",\"tickwidth\":0},\"mapbox\":{\"style\":\"dark\"}}},\"xaxis\":{\"anchor\":\"y\",\"domain\":[0.0,1.0],\"scaleanchor\":\"y\",\"constrain\":\"domain\",\"title\":{\"text\":\"\\uc720\\uc0ac\\ud55c \\uc9c0\\uc5ed\"}},\"yaxis\":{\"anchor\":\"x\",\"domain\":[0.0,1.0],\"autorange\":\"reversed\",\"constrain\":\"domain\",\"title\":{\"text\":\"\\uae30\\uc900 \\uc9c0\\uc5ed\"}},\"coloraxis\":{\"colorbar\":{\"title\":{\"text\":\"\\uc720\\uc0ac\\ub3c4\"}},\"colorscale\":[[0.0,\"rgb(247,251,255)\"],[0.125,\"rgb(222,235,247)\"],[0.25,\"rgb(198,219,239)\"],[0.375,\"rgb(158,202,225)\"],[0.5,\"rgb(107,174,214)\"],[0.625,\"rgb(66,146,198)\"],[0.75,\"rgb(33,113,181)\"],[0.875,\"rgb(8,81,156)\"],[1.0,\"rgb(8,48,107)\"]]},\"title\":{\"text\":\"\\uae40\\ud574\\uc2dc\\uacfc \\uc720\\uc0ac\\ud55c \\uc0c1\\uc704 5\\uac1c \\uc9c0\\uc5ed\"}},                        {\"responsive\": true}                    ).then(function(){\n                            \nvar gd = document.getElementById('5573e565-86de-47e6-a1ca-569179c90c2a');\nvar x = new MutationObserver(function (mutations, observer) {{\n        var display = window.getComputedStyle(gd).display;\n        if (!display || display === 'none') {{\n            console.log([gd, 'removed!']);\n            Plotly.purge(gd);\n            observer.disconnect();\n        }}\n}});\n\n// Listen for the removal of the full notebook cells\nvar notebookContainer = gd.closest('#notebook-container');\nif (notebookContainer) {{\n    x.observe(notebookContainer, {childList: true});\n}}\n\n// Listen for the clearing of the current output cell\nvar outputEl = gd.closest('.output');\nif (outputEl) {{\n    x.observe(outputEl, {childList: true});\n}}\n\n                        })                };                });            </script>        </div>"
     },
     "metadata": {},
     "output_type": "display_data"
    }
   ],
   "source": [
    "import pandas as pd\n",
    "import plotly.express as px\n",
    "import plotly.graph_objects as go\n",
    "from sklearn.metrics.pairwise import cosine_similarity\n",
    "from sklearn.preprocessing import StandardScaler\n",
    "\n",
    "# 예제 데이터프레임 df\n",
    "# df = pd.read_csv('your_data.csv')  # 데이터 파일을 불러오는 코드 (예시)\n",
    "\n",
    "# 지역명을 제외한 지표만 추출\n",
    "features = df.drop(columns=['SGG_NM', 'SGGCD'])\n",
    "\n",
    "# 데이터 정규화 (스케일링)\n",
    "scaler = StandardScaler()\n",
    "features_scaled = scaler.fit_transform(features)\n",
    "\n",
    "# 코사인 유사도 계산\n",
    "similarity_matrix = cosine_similarity(features_scaled)\n",
    "\n",
    "# 유사도 데이터프레임 생성\n",
    "similarity_df = pd.DataFrame(similarity_matrix, index=df['SGG_NM'], columns=df['SGG_NM'])\n",
    "\n",
    "# 유사도 매트릭스에서 강원 강릉시, 경북 경주시, 경남 김해시만 선택\n",
    "regions_of_interest = ['강릉시', '경주시', '김해시']\n",
    "filtered_similarity_df = similarity_df.loc[df['SGG_NM'], df['SGG_NM']]\n",
    "\n",
    "# 각 지역과 유사한 상위 5개의 지역 선택 및 시각화\n",
    "for region in regions_of_interest:\n",
    "    # 자기 자신을 제외한 유사한 상위 6개 지역 선택 (기준 지역 제외)\n",
    "    similar_regions = similarity_df[region].sort_values(ascending=False)[1:]\n",
    "    \n",
    "    # 강릉시, 경주시, 김해시를 제외하고 유사한 상위 5개 지역 선택\n",
    "    filtered_regions = similar_regions[~similar_regions.index.isin(regions_of_interest)].head(5)\n",
    "    \n",
    "    # 유사도 매트릭스에서 해당 지역과 상위 유사 지역들만 선택\n",
    "    filtered_similarity_df = similarity_df.loc[filtered_regions.index, [region]]\n",
    "    \n",
    "    # Plotly를 사용하여 히트맵 생성\n",
    "    fig = px.imshow(\n",
    "        filtered_similarity_df.T,  # transpose to display region of interest on y-axis\n",
    "        text_auto=True,  # 셀 내부에 값 표시\n",
    "        color_continuous_scale='Blues',  # 컬러 스케일 설정\n",
    "        labels=dict(x=\"유사한 지역\", y=\"기준 지역\", color=\"유사도\"),\n",
    "        title=f\"{region}과 유사한 상위 5개 지역\"\n",
    "    )\n",
    "\n",
    "    # 그래프 출력\n",
    "    fig.show()"
   ],
   "metadata": {
    "collapsed": false,
    "ExecuteTime": {
     "end_time": "2024-08-24T06:04:33.583399700Z",
     "start_time": "2024-08-24T06:04:33.368288700Z"
    }
   },
   "id": "c3a3b88d03629ab3"
  },
  {
   "cell_type": "code",
   "execution_count": 8,
   "outputs": [
    {
     "name": "stdout",
     "output_type": "stream",
     "text": [
      "유사도 매트릭스:\n",
      "SGG_NM       충주시       제천시       보은군       옥천군       영동군       증평군       진천군  \\\n",
      "SGG_NM                                                                         \n",
      "충주시     1.000000  0.834997 -0.957340 -0.942379 -0.613744 -0.822104 -0.283412   \n",
      "제천시     0.834997  1.000000 -0.807107 -0.966273 -0.139360 -0.482701 -0.063500   \n",
      "보은군    -0.957340 -0.807107  1.000000  0.921885  0.600514  0.877371  0.373128   \n",
      "옥천군    -0.942379 -0.966273  0.921885  1.000000  0.364852  0.668921  0.157309   \n",
      "영동군    -0.613744 -0.139360  0.600514  0.364852  1.000000  0.886033  0.644948   \n",
      "증평군    -0.822104 -0.482701  0.877371  0.668921  0.886033  1.000000  0.676421   \n",
      "진천군    -0.283412 -0.063500  0.373128  0.157309  0.644948  0.676421  1.000000   \n",
      "괴산군    -0.997382 -0.822821  0.952615  0.937346  0.624494  0.818589  0.245378   \n",
      "음성군     0.462223  0.451573 -0.418545 -0.468691  0.147667 -0.067419  0.510494   \n",
      "단양군    -0.751299 -0.750040  0.798081  0.785635  0.108869  0.481454 -0.038339   \n",
      "공주시    -0.067311 -0.531104  0.029734  0.334657 -0.743564 -0.446335 -0.611706   \n",
      "보령시     0.838674  0.847620 -0.873642 -0.877213 -0.469760 -0.771421 -0.581016   \n",
      "아산시     0.943933  0.673461 -0.966856 -0.839566 -0.755705 -0.931012 -0.379664   \n",
      "서산시     0.924786  0.959174 -0.936205 -0.990645 -0.325478 -0.670403 -0.173013   \n",
      "논산시    -0.795165 -0.656040  0.704197  0.727300  0.692658  0.753059  0.593227   \n",
      "계룡시    -0.725343 -0.318923  0.768270  0.527771  0.957040  0.979242  0.712338   \n",
      "당진시     0.958114  0.756601 -0.953062 -0.894204 -0.722698 -0.891807 -0.349032   \n",
      "금산군    -0.975328 -0.895593  0.953502  0.973496  0.562321  0.803736  0.318761   \n",
      "부여군    -0.637543 -0.422251  0.781796  0.557756  0.718323  0.915205  0.817020   \n",
      "서천군    -0.984611 -0.844443  0.955523  0.942262  0.514924  0.764664  0.183129   \n",
      "청양군    -0.719470 -0.264345  0.719711  0.488288  0.985720  0.942526  0.621802   \n",
      "홍성군    -0.453986 -0.087723  0.459626  0.263106  0.925579  0.798861  0.788555   \n",
      "예산군    -0.729186 -0.862773  0.661817  0.823315 -0.067810  0.256683 -0.244493   \n",
      "태안군     0.777232  0.782978 -0.824770 -0.815860 -0.508747 -0.777647 -0.653138   \n",
      "경주시     0.815229  0.405538 -0.829459 -0.614156 -0.938058 -0.980277 -0.615610   \n",
      "김해시     0.860412  0.458460 -0.871871 -0.666941 -0.871225 -0.950443 -0.473901   \n",
      "강릉시     0.964024  0.706594 -0.960429 -0.856308 -0.776258 -0.943462 -0.482854   \n",
      "\n",
      "SGG_NM       괴산군       음성군       단양군  ...       금산군       부여군       서천군  \\\n",
      "SGG_NM                                ...                                 \n",
      "충주시    -0.997382  0.462223 -0.751299  ... -0.975328 -0.637543 -0.984611   \n",
      "제천시    -0.822821  0.451573 -0.750040  ... -0.895593 -0.422251 -0.844443   \n",
      "보은군     0.952615 -0.418545  0.798081  ...  0.953502  0.781796  0.955523   \n",
      "옥천군     0.937346 -0.468691  0.785635  ...  0.973496  0.557756  0.942262   \n",
      "영동군     0.624494  0.147667  0.108869  ...  0.562321  0.718323  0.514924   \n",
      "증평군     0.818589 -0.067419  0.481454  ...  0.803736  0.915205  0.764664   \n",
      "진천군     0.245378  0.510494 -0.038339  ...  0.318761  0.817020  0.183129   \n",
      "괴산군     1.000000 -0.466605  0.737478  ...  0.972195  0.619348  0.981244   \n",
      "음성군    -0.466605  1.000000 -0.824720  ... -0.338224  0.126488 -0.599299   \n",
      "단양군     0.737478 -0.824720  1.000000  ...  0.696318  0.407530  0.851219   \n",
      "공주시     0.055116 -0.562113  0.460024  ...  0.114508 -0.410210  0.172097   \n",
      "보령시    -0.810540  0.105833 -0.605410  ... -0.906684 -0.797986 -0.795492   \n",
      "아산시    -0.951112  0.366423 -0.690732  ... -0.913854 -0.772402 -0.924373   \n",
      "서산시    -0.915707  0.507628 -0.845651  ... -0.953197 -0.593569 -0.941217   \n",
      "논산시     0.780180  0.101825  0.263315  ...  0.832860  0.635807  0.685338   \n",
      "계룡시     0.726725  0.058195  0.315518  ...  0.696738  0.878055  0.648038   \n",
      "당진시    -0.967923  0.286693 -0.623334  ... -0.962803 -0.729855 -0.917284   \n",
      "금산군     0.972195 -0.338224  0.696318  ...  1.000000  0.675555  0.944707   \n",
      "부여군     0.619348  0.126488  0.407530  ...  0.675555  1.000000  0.584027   \n",
      "서천군     0.981244 -0.599299  0.851219  ...  0.944707  0.584027  1.000000   \n",
      "청양군     0.727934  0.012446  0.273139  ...  0.664344  0.773586  0.640192   \n",
      "홍성군     0.457273  0.481740 -0.134314  ...  0.473587  0.737581  0.314179   \n",
      "예산군     0.716135 -0.816477  0.883695  ...  0.697208  0.118631  0.809116   \n",
      "태안군    -0.751405 -0.051036 -0.480486  ... -0.867730 -0.831947 -0.711895   \n",
      "경주시    -0.817129  0.110769 -0.438780  ... -0.762608 -0.827325 -0.755740   \n",
      "김해시    -0.865489  0.307087 -0.579611  ... -0.784115 -0.764997 -0.832841   \n",
      "강릉시    -0.960958  0.291973 -0.650114  ... -0.940633 -0.792707 -0.925802   \n",
      "\n",
      "SGG_NM       청양군       홍성군       예산군       태안군       경주시       김해시       강릉시  \n",
      "SGG_NM                                                                        \n",
      "충주시    -0.719470 -0.453986 -0.729186  0.777232  0.815229  0.860412  0.964024  \n",
      "제천시    -0.264345 -0.087723 -0.862773  0.782978  0.405538  0.458460  0.706594  \n",
      "보은군     0.719711  0.459626  0.661817 -0.824770 -0.829459 -0.871871 -0.960429  \n",
      "옥천군     0.488288  0.263106  0.823315 -0.815860 -0.614156 -0.666941 -0.856308  \n",
      "영동군     0.985720  0.925579 -0.067810 -0.508747 -0.938058 -0.871225 -0.776258  \n",
      "증평군     0.942526  0.798861  0.256683 -0.777647 -0.980277 -0.950443 -0.943462  \n",
      "진천군     0.621802  0.788555 -0.244493 -0.653138 -0.615610 -0.473901 -0.482854  \n",
      "괴산군     0.727934  0.457273  0.716135 -0.751405 -0.817129 -0.865489 -0.960958  \n",
      "음성군     0.012446  0.481740 -0.816477 -0.051036  0.110769  0.307087  0.291973  \n",
      "단양군     0.273139 -0.134314  0.883695 -0.480486 -0.438780 -0.579611 -0.650114  \n",
      "공주시    -0.642859 -0.779812  0.696066  0.002110  0.510085  0.390145  0.176368  \n",
      "보령시    -0.562044 -0.497327 -0.569657  0.986380  0.674264  0.645120  0.844881  \n",
      "아산시    -0.850537 -0.586911 -0.532705  0.735790  0.921244  0.955068  0.980147  \n",
      "서산시    -0.461219 -0.214333 -0.836303  0.814737  0.601621  0.664250  0.844443  \n",
      "논산시     0.713497  0.736126  0.357149 -0.854020 -0.741356 -0.664195 -0.821557  \n",
      "계룡시     0.982398  0.884324  0.084177 -0.682741 -0.982927 -0.930630 -0.880022  \n",
      "당진시    -0.808259 -0.604558 -0.549688  0.796172  0.873587  0.889599  0.972076  \n",
      "금산군     0.664344  0.473587  0.697208 -0.867730 -0.762608 -0.784115 -0.940633  \n",
      "부여군     0.773586  0.737581  0.118631 -0.831947 -0.827325 -0.764997 -0.792707  \n",
      "서천군     0.640192  0.314179  0.809116 -0.711895 -0.755740 -0.832841 -0.925802  \n",
      "청양군     1.000000  0.876860  0.078206 -0.580863 -0.982134 -0.939934 -0.861742  \n",
      "홍성군     0.876860  1.000000 -0.264990 -0.586253 -0.809226 -0.676280 -0.644486  \n",
      "예산군     0.078206 -0.264990  1.000000 -0.437592 -0.236258 -0.371567 -0.538097  \n",
      "태안군    -0.580863 -0.586253 -0.437592  1.000000  0.672256  0.613398  0.813034  \n",
      "경주시    -0.982134 -0.809226 -0.236258  0.672256  1.000000  0.978800  0.932631  \n",
      "김해시    -0.939934 -0.676280 -0.371567  0.613398  0.978800  1.000000  0.942918  \n",
      "강릉시    -0.861742 -0.644486 -0.538097  0.813034  0.932631  0.942918  1.000000  \n",
      "\n",
      "[27 rows x 27 columns]\n",
      "\n",
      "'충주시'와(과) 유사한 지역:\n",
      "SGG_NM\n",
      "강릉시    0.964024\n",
      "당진시    0.958114\n",
      "아산시    0.943933\n",
      "서산시    0.924786\n",
      "김해시    0.860412\n",
      "보령시    0.838674\n",
      "제천시    0.834997\n",
      "경주시    0.815229\n",
      "태안군    0.777232\n",
      "음성군    0.462223\n",
      "공주시   -0.067311\n",
      "진천군   -0.283412\n",
      "홍성군   -0.453986\n",
      "영동군   -0.613744\n",
      "부여군   -0.637543\n",
      "청양군   -0.719470\n",
      "계룡시   -0.725343\n",
      "예산군   -0.729186\n",
      "단양군   -0.751299\n",
      "논산시   -0.795165\n",
      "증평군   -0.822104\n",
      "옥천군   -0.942379\n",
      "보은군   -0.957340\n",
      "금산군   -0.975328\n",
      "서천군   -0.984611\n",
      "괴산군   -0.997382\n",
      "Name: 충주시, dtype: float64\n",
      "\n",
      "'제천시'와(과) 유사한 지역:\n",
      "SGG_NM\n",
      "서산시    0.959174\n",
      "보령시    0.847620\n",
      "충주시    0.834997\n",
      "태안군    0.782978\n",
      "당진시    0.756601\n",
      "강릉시    0.706594\n",
      "아산시    0.673461\n",
      "김해시    0.458460\n",
      "음성군    0.451573\n",
      "경주시    0.405538\n",
      "진천군   -0.063500\n",
      "홍성군   -0.087723\n",
      "영동군   -0.139360\n",
      "청양군   -0.264345\n",
      "계룡시   -0.318923\n",
      "부여군   -0.422251\n",
      "증평군   -0.482701\n",
      "공주시   -0.531104\n",
      "논산시   -0.656040\n",
      "단양군   -0.750040\n",
      "보은군   -0.807107\n",
      "괴산군   -0.822821\n",
      "서천군   -0.844443\n",
      "예산군   -0.862773\n",
      "금산군   -0.895593\n",
      "옥천군   -0.966273\n",
      "Name: 제천시, dtype: float64\n",
      "\n",
      "'보은군'와(과) 유사한 지역:\n",
      "SGG_NM\n",
      "서천군    0.955523\n",
      "금산군    0.953502\n",
      "괴산군    0.952615\n",
      "옥천군    0.921885\n",
      "증평군    0.877371\n",
      "단양군    0.798081\n",
      "부여군    0.781796\n",
      "계룡시    0.768270\n",
      "청양군    0.719711\n",
      "논산시    0.704197\n",
      "예산군    0.661817\n",
      "영동군    0.600514\n",
      "홍성군    0.459626\n",
      "진천군    0.373128\n",
      "공주시    0.029734\n",
      "음성군   -0.418545\n",
      "제천시   -0.807107\n",
      "태안군   -0.824770\n",
      "경주시   -0.829459\n",
      "김해시   -0.871871\n",
      "보령시   -0.873642\n",
      "서산시   -0.936205\n",
      "당진시   -0.953062\n",
      "충주시   -0.957340\n",
      "강릉시   -0.960429\n",
      "아산시   -0.966856\n",
      "Name: 보은군, dtype: float64\n",
      "\n",
      "'옥천군'와(과) 유사한 지역:\n",
      "SGG_NM\n",
      "금산군    0.973496\n",
      "서천군    0.942262\n",
      "괴산군    0.937346\n",
      "보은군    0.921885\n",
      "예산군    0.823315\n",
      "단양군    0.785635\n",
      "논산시    0.727300\n",
      "증평군    0.668921\n",
      "부여군    0.557756\n",
      "계룡시    0.527771\n",
      "청양군    0.488288\n",
      "영동군    0.364852\n",
      "공주시    0.334657\n",
      "홍성군    0.263106\n",
      "진천군    0.157309\n",
      "음성군   -0.468691\n",
      "경주시   -0.614156\n",
      "김해시   -0.666941\n",
      "태안군   -0.815860\n",
      "아산시   -0.839566\n",
      "강릉시   -0.856308\n",
      "보령시   -0.877213\n",
      "당진시   -0.894204\n",
      "충주시   -0.942379\n",
      "제천시   -0.966273\n",
      "서산시   -0.990645\n",
      "Name: 옥천군, dtype: float64\n",
      "\n",
      "'영동군'와(과) 유사한 지역:\n",
      "SGG_NM\n",
      "청양군    0.985720\n",
      "계룡시    0.957040\n",
      "홍성군    0.925579\n",
      "증평군    0.886033\n",
      "부여군    0.718323\n",
      "논산시    0.692658\n",
      "진천군    0.644948\n",
      "괴산군    0.624494\n",
      "보은군    0.600514\n",
      "금산군    0.562321\n",
      "서천군    0.514924\n",
      "옥천군    0.364852\n",
      "음성군    0.147667\n",
      "단양군    0.108869\n",
      "예산군   -0.067810\n",
      "제천시   -0.139360\n",
      "서산시   -0.325478\n",
      "보령시   -0.469760\n",
      "태안군   -0.508747\n",
      "충주시   -0.613744\n",
      "당진시   -0.722698\n",
      "공주시   -0.743564\n",
      "아산시   -0.755705\n",
      "강릉시   -0.776258\n",
      "김해시   -0.871225\n",
      "경주시   -0.938058\n",
      "Name: 영동군, dtype: float64\n",
      "\n",
      "'증평군'와(과) 유사한 지역:\n",
      "SGG_NM\n",
      "계룡시    0.979242\n",
      "청양군    0.942526\n",
      "부여군    0.915205\n",
      "영동군    0.886033\n",
      "보은군    0.877371\n",
      "괴산군    0.818589\n",
      "금산군    0.803736\n",
      "홍성군    0.798861\n",
      "서천군    0.764664\n",
      "논산시    0.753059\n",
      "진천군    0.676421\n",
      "옥천군    0.668921\n",
      "단양군    0.481454\n",
      "예산군    0.256683\n",
      "음성군   -0.067419\n",
      "공주시   -0.446335\n",
      "제천시   -0.482701\n",
      "서산시   -0.670403\n",
      "보령시   -0.771421\n",
      "태안군   -0.777647\n",
      "충주시   -0.822104\n",
      "당진시   -0.891807\n",
      "아산시   -0.931012\n",
      "강릉시   -0.943462\n",
      "김해시   -0.950443\n",
      "경주시   -0.980277\n",
      "Name: 증평군, dtype: float64\n",
      "\n",
      "'진천군'와(과) 유사한 지역:\n",
      "SGG_NM\n",
      "부여군    0.817020\n",
      "홍성군    0.788555\n",
      "계룡시    0.712338\n",
      "증평군    0.676421\n",
      "영동군    0.644948\n",
      "청양군    0.621802\n",
      "논산시    0.593227\n",
      "음성군    0.510494\n",
      "보은군    0.373128\n",
      "금산군    0.318761\n",
      "괴산군    0.245378\n",
      "서천군    0.183129\n",
      "옥천군    0.157309\n",
      "단양군   -0.038339\n",
      "제천시   -0.063500\n",
      "서산시   -0.173013\n",
      "예산군   -0.244493\n",
      "충주시   -0.283412\n",
      "당진시   -0.349032\n",
      "아산시   -0.379664\n",
      "김해시   -0.473901\n",
      "강릉시   -0.482854\n",
      "보령시   -0.581016\n",
      "공주시   -0.611706\n",
      "경주시   -0.615610\n",
      "태안군   -0.653138\n",
      "Name: 진천군, dtype: float64\n",
      "\n",
      "'괴산군'와(과) 유사한 지역:\n",
      "SGG_NM\n",
      "서천군    0.981244\n",
      "금산군    0.972195\n",
      "보은군    0.952615\n",
      "옥천군    0.937346\n",
      "증평군    0.818589\n",
      "논산시    0.780180\n",
      "단양군    0.737478\n",
      "청양군    0.727934\n",
      "계룡시    0.726725\n",
      "예산군    0.716135\n",
      "영동군    0.624494\n",
      "부여군    0.619348\n",
      "홍성군    0.457273\n",
      "진천군    0.245378\n",
      "공주시    0.055116\n",
      "음성군   -0.466605\n",
      "태안군   -0.751405\n",
      "보령시   -0.810540\n",
      "경주시   -0.817129\n",
      "제천시   -0.822821\n",
      "김해시   -0.865489\n",
      "서산시   -0.915707\n",
      "아산시   -0.951112\n",
      "강릉시   -0.960958\n",
      "당진시   -0.967923\n",
      "충주시   -0.997382\n",
      "Name: 괴산군, dtype: float64\n",
      "\n",
      "'음성군'와(과) 유사한 지역:\n",
      "SGG_NM\n",
      "진천군    0.510494\n",
      "서산시    0.507628\n",
      "홍성군    0.481740\n",
      "충주시    0.462223\n",
      "제천시    0.451573\n",
      "아산시    0.366423\n",
      "김해시    0.307087\n",
      "강릉시    0.291973\n",
      "당진시    0.286693\n",
      "영동군    0.147667\n",
      "부여군    0.126488\n",
      "경주시    0.110769\n",
      "보령시    0.105833\n",
      "논산시    0.101825\n",
      "계룡시    0.058195\n",
      "청양군    0.012446\n",
      "태안군   -0.051036\n",
      "증평군   -0.067419\n",
      "금산군   -0.338224\n",
      "보은군   -0.418545\n",
      "괴산군   -0.466605\n",
      "옥천군   -0.468691\n",
      "공주시   -0.562113\n",
      "서천군   -0.599299\n",
      "예산군   -0.816477\n",
      "단양군   -0.824720\n",
      "Name: 음성군, dtype: float64\n",
      "\n",
      "'단양군'와(과) 유사한 지역:\n",
      "SGG_NM\n",
      "예산군    0.883695\n",
      "서천군    0.851219\n",
      "보은군    0.798081\n",
      "옥천군    0.785635\n",
      "괴산군    0.737478\n",
      "금산군    0.696318\n",
      "증평군    0.481454\n",
      "공주시    0.460024\n",
      "부여군    0.407530\n",
      "계룡시    0.315518\n",
      "청양군    0.273139\n",
      "논산시    0.263315\n",
      "영동군    0.108869\n",
      "진천군   -0.038339\n",
      "홍성군   -0.134314\n",
      "경주시   -0.438780\n",
      "태안군   -0.480486\n",
      "김해시   -0.579611\n",
      "보령시   -0.605410\n",
      "당진시   -0.623334\n",
      "강릉시   -0.650114\n",
      "아산시   -0.690732\n",
      "제천시   -0.750040\n",
      "충주시   -0.751299\n",
      "음성군   -0.824720\n",
      "서산시   -0.845651\n",
      "Name: 단양군, dtype: float64\n",
      "\n",
      "'공주시'와(과) 유사한 지역:\n",
      "SGG_NM\n",
      "예산군    0.696066\n",
      "경주시    0.510085\n",
      "단양군    0.460024\n",
      "김해시    0.390145\n",
      "옥천군    0.334657\n",
      "강릉시    0.176368\n",
      "서천군    0.172097\n",
      "아산시    0.169046\n",
      "금산군    0.114508\n",
      "당진시    0.101268\n",
      "괴산군    0.055116\n",
      "보은군    0.029734\n",
      "태안군    0.002110\n",
      "충주시   -0.067311\n",
      "보령시   -0.095847\n",
      "논산시   -0.186786\n",
      "서산시   -0.358719\n",
      "부여군   -0.410210\n",
      "증평군   -0.446335\n",
      "제천시   -0.531104\n",
      "음성군   -0.562113\n",
      "진천군   -0.611706\n",
      "계룡시   -0.611985\n",
      "청양군   -0.642859\n",
      "영동군   -0.743564\n",
      "홍성군   -0.779812\n",
      "Name: 공주시, dtype: float64\n",
      "\n",
      "'보령시'와(과) 유사한 지역:\n",
      "SGG_NM\n",
      "태안군    0.986380\n",
      "서산시    0.882662\n",
      "제천시    0.847620\n",
      "강릉시    0.844881\n",
      "충주시    0.838674\n",
      "당진시    0.818462\n",
      "아산시    0.771666\n",
      "경주시    0.674264\n",
      "김해시    0.645120\n",
      "음성군    0.105833\n",
      "공주시   -0.095847\n",
      "영동군   -0.469760\n",
      "홍성군   -0.497327\n",
      "청양군   -0.562044\n",
      "예산군   -0.569657\n",
      "진천군   -0.581016\n",
      "단양군   -0.605410\n",
      "계룡시   -0.656483\n",
      "증평군   -0.771421\n",
      "서천군   -0.795492\n",
      "부여군   -0.797986\n",
      "괴산군   -0.810540\n",
      "논산시   -0.838280\n",
      "보은군   -0.873642\n",
      "옥천군   -0.877213\n",
      "금산군   -0.906684\n",
      "Name: 보령시, dtype: float64\n",
      "\n",
      "'아산시'와(과) 유사한 지역:\n",
      "SGG_NM\n",
      "강릉시    0.980147\n",
      "당진시    0.975360\n",
      "김해시    0.955068\n",
      "충주시    0.943933\n",
      "경주시    0.921244\n",
      "서산시    0.837093\n",
      "보령시    0.771666\n",
      "태안군    0.735790\n",
      "제천시    0.673461\n",
      "음성군    0.366423\n",
      "공주시    0.169046\n",
      "진천군   -0.379664\n",
      "예산군   -0.532705\n",
      "홍성군   -0.586911\n",
      "단양군   -0.690732\n",
      "논산시   -0.708191\n",
      "영동군   -0.755705\n",
      "부여군   -0.772402\n",
      "옥천군   -0.839566\n",
      "청양군   -0.850537\n",
      "계룡시   -0.865416\n",
      "금산군   -0.913854\n",
      "서천군   -0.924373\n",
      "증평군   -0.931012\n",
      "괴산군   -0.951112\n",
      "보은군   -0.966856\n",
      "Name: 아산시, dtype: float64\n",
      "\n",
      "'서산시'와(과) 유사한 지역:\n",
      "SGG_NM\n",
      "제천시    0.959174\n",
      "충주시    0.924786\n",
      "보령시    0.882662\n",
      "당진시    0.870391\n",
      "강릉시    0.844443\n",
      "아산시    0.837093\n",
      "태안군    0.814737\n",
      "김해시    0.664250\n",
      "경주시    0.601621\n",
      "음성군    0.507628\n",
      "진천군   -0.173013\n",
      "홍성군   -0.214333\n",
      "영동군   -0.325478\n",
      "공주시   -0.358719\n",
      "청양군   -0.461219\n",
      "계룡시   -0.517035\n",
      "부여군   -0.593569\n",
      "논산시   -0.664638\n",
      "증평군   -0.670403\n",
      "예산군   -0.836303\n",
      "단양군   -0.845651\n",
      "괴산군   -0.915707\n",
      "보은군   -0.936205\n",
      "서천군   -0.941217\n",
      "금산군   -0.953197\n",
      "옥천군   -0.990645\n",
      "Name: 서산시, dtype: float64\n",
      "\n",
      "'논산시'와(과) 유사한 지역:\n",
      "SGG_NM\n",
      "금산군    0.832860\n",
      "괴산군    0.780180\n",
      "증평군    0.753059\n",
      "홍성군    0.736126\n",
      "옥천군    0.727300\n",
      "계룡시    0.726242\n",
      "청양군    0.713497\n",
      "보은군    0.704197\n",
      "영동군    0.692658\n",
      "서천군    0.685338\n",
      "부여군    0.635807\n",
      "진천군    0.593227\n",
      "예산군    0.357149\n",
      "단양군    0.263315\n",
      "음성군    0.101825\n",
      "공주시   -0.186786\n",
      "제천시   -0.656040\n",
      "김해시   -0.664195\n",
      "서산시   -0.664638\n",
      "아산시   -0.708191\n",
      "경주시   -0.741356\n",
      "충주시   -0.795165\n",
      "당진시   -0.796634\n",
      "강릉시   -0.821557\n",
      "보령시   -0.838280\n",
      "태안군   -0.854020\n",
      "Name: 논산시, dtype: float64\n",
      "\n",
      "'계룡시'와(과) 유사한 지역:\n",
      "SGG_NM\n",
      "청양군    0.982398\n",
      "증평군    0.979242\n",
      "영동군    0.957040\n",
      "홍성군    0.884324\n",
      "부여군    0.878055\n",
      "보은군    0.768270\n",
      "괴산군    0.726725\n",
      "논산시    0.726242\n",
      "진천군    0.712338\n",
      "금산군    0.696738\n",
      "서천군    0.648038\n",
      "옥천군    0.527771\n",
      "단양군    0.315518\n",
      "예산군    0.084177\n",
      "음성군    0.058195\n",
      "제천시   -0.318923\n",
      "서산시   -0.517035\n",
      "공주시   -0.611985\n",
      "보령시   -0.656483\n",
      "태안군   -0.682741\n",
      "충주시   -0.725343\n",
      "당진시   -0.822544\n",
      "아산시   -0.865416\n",
      "강릉시   -0.880022\n",
      "김해시   -0.930630\n",
      "경주시   -0.982927\n",
      "Name: 계룡시, dtype: float64\n",
      "\n",
      "'당진시'와(과) 유사한 지역:\n",
      "SGG_NM\n",
      "아산시    0.975360\n",
      "강릉시    0.972076\n",
      "충주시    0.958114\n",
      "김해시    0.889599\n",
      "경주시    0.873587\n",
      "서산시    0.870391\n",
      "보령시    0.818462\n",
      "태안군    0.796172\n",
      "제천시    0.756601\n",
      "음성군    0.286693\n",
      "공주시    0.101268\n",
      "진천군   -0.349032\n",
      "예산군   -0.549688\n",
      "홍성군   -0.604558\n",
      "단양군   -0.623334\n",
      "영동군   -0.722698\n",
      "부여군   -0.729855\n",
      "논산시   -0.796634\n",
      "청양군   -0.808259\n",
      "계룡시   -0.822544\n",
      "증평군   -0.891807\n",
      "옥천군   -0.894204\n",
      "서천군   -0.917284\n",
      "보은군   -0.953062\n",
      "금산군   -0.962803\n",
      "괴산군   -0.967923\n",
      "Name: 당진시, dtype: float64\n",
      "\n",
      "'금산군'와(과) 유사한 지역:\n",
      "SGG_NM\n",
      "옥천군    0.973496\n",
      "괴산군    0.972195\n",
      "보은군    0.953502\n",
      "서천군    0.944707\n",
      "논산시    0.832860\n",
      "증평군    0.803736\n",
      "예산군    0.697208\n",
      "계룡시    0.696738\n",
      "단양군    0.696318\n",
      "부여군    0.675555\n",
      "청양군    0.664344\n",
      "영동군    0.562321\n",
      "홍성군    0.473587\n",
      "진천군    0.318761\n",
      "공주시    0.114508\n",
      "음성군   -0.338224\n",
      "경주시   -0.762608\n",
      "김해시   -0.784115\n",
      "태안군   -0.867730\n",
      "제천시   -0.895593\n",
      "보령시   -0.906684\n",
      "아산시   -0.913854\n",
      "강릉시   -0.940633\n",
      "서산시   -0.953197\n",
      "당진시   -0.962803\n",
      "충주시   -0.975328\n",
      "Name: 금산군, dtype: float64\n",
      "\n",
      "'부여군'와(과) 유사한 지역:\n",
      "SGG_NM\n",
      "증평군    0.915205\n",
      "계룡시    0.878055\n",
      "진천군    0.817020\n",
      "보은군    0.781796\n",
      "청양군    0.773586\n",
      "홍성군    0.737581\n",
      "영동군    0.718323\n",
      "금산군    0.675555\n",
      "논산시    0.635807\n",
      "괴산군    0.619348\n",
      "서천군    0.584027\n",
      "옥천군    0.557756\n",
      "단양군    0.407530\n",
      "음성군    0.126488\n",
      "예산군    0.118631\n",
      "공주시   -0.410210\n",
      "제천시   -0.422251\n",
      "서산시   -0.593569\n",
      "충주시   -0.637543\n",
      "당진시   -0.729855\n",
      "김해시   -0.764997\n",
      "아산시   -0.772402\n",
      "강릉시   -0.792707\n",
      "보령시   -0.797986\n",
      "경주시   -0.827325\n",
      "태안군   -0.831947\n",
      "Name: 부여군, dtype: float64\n",
      "\n",
      "'서천군'와(과) 유사한 지역:\n",
      "SGG_NM\n",
      "괴산군    0.981244\n",
      "보은군    0.955523\n",
      "금산군    0.944707\n",
      "옥천군    0.942262\n",
      "단양군    0.851219\n",
      "예산군    0.809116\n",
      "증평군    0.764664\n",
      "논산시    0.685338\n",
      "계룡시    0.648038\n",
      "청양군    0.640192\n",
      "부여군    0.584027\n",
      "영동군    0.514924\n",
      "홍성군    0.314179\n",
      "진천군    0.183129\n",
      "공주시    0.172097\n",
      "음성군   -0.599299\n",
      "태안군   -0.711895\n",
      "경주시   -0.755740\n",
      "보령시   -0.795492\n",
      "김해시   -0.832841\n",
      "제천시   -0.844443\n",
      "당진시   -0.917284\n",
      "아산시   -0.924373\n",
      "강릉시   -0.925802\n",
      "서산시   -0.941217\n",
      "충주시   -0.984611\n",
      "Name: 서천군, dtype: float64\n",
      "\n",
      "'청양군'와(과) 유사한 지역:\n",
      "SGG_NM\n",
      "영동군    0.985720\n",
      "계룡시    0.982398\n",
      "증평군    0.942526\n",
      "홍성군    0.876860\n",
      "부여군    0.773586\n",
      "괴산군    0.727934\n",
      "보은군    0.719711\n",
      "논산시    0.713497\n",
      "금산군    0.664344\n",
      "서천군    0.640192\n",
      "진천군    0.621802\n",
      "옥천군    0.488288\n",
      "단양군    0.273139\n",
      "예산군    0.078206\n",
      "음성군    0.012446\n",
      "제천시   -0.264345\n",
      "서산시   -0.461219\n",
      "보령시   -0.562044\n",
      "태안군   -0.580863\n",
      "공주시   -0.642859\n",
      "충주시   -0.719470\n",
      "당진시   -0.808259\n",
      "아산시   -0.850537\n",
      "강릉시   -0.861742\n",
      "김해시   -0.939934\n",
      "경주시   -0.982134\n",
      "Name: 청양군, dtype: float64\n",
      "\n",
      "'홍성군'와(과) 유사한 지역:\n",
      "SGG_NM\n",
      "영동군    0.925579\n",
      "계룡시    0.884324\n",
      "청양군    0.876860\n",
      "증평군    0.798861\n",
      "진천군    0.788555\n",
      "부여군    0.737581\n",
      "논산시    0.736126\n",
      "음성군    0.481740\n",
      "금산군    0.473587\n",
      "보은군    0.459626\n",
      "괴산군    0.457273\n",
      "서천군    0.314179\n",
      "옥천군    0.263106\n",
      "제천시   -0.087723\n",
      "단양군   -0.134314\n",
      "서산시   -0.214333\n",
      "예산군   -0.264990\n",
      "충주시   -0.453986\n",
      "보령시   -0.497327\n",
      "태안군   -0.586253\n",
      "아산시   -0.586911\n",
      "당진시   -0.604558\n",
      "강릉시   -0.644486\n",
      "김해시   -0.676280\n",
      "공주시   -0.779812\n",
      "경주시   -0.809226\n",
      "Name: 홍성군, dtype: float64\n",
      "\n",
      "'예산군'와(과) 유사한 지역:\n",
      "SGG_NM\n",
      "단양군    0.883695\n",
      "옥천군    0.823315\n",
      "서천군    0.809116\n",
      "괴산군    0.716135\n",
      "금산군    0.697208\n",
      "공주시    0.696066\n",
      "보은군    0.661817\n",
      "논산시    0.357149\n",
      "증평군    0.256683\n",
      "부여군    0.118631\n",
      "계룡시    0.084177\n",
      "청양군    0.078206\n",
      "영동군   -0.067810\n",
      "경주시   -0.236258\n",
      "진천군   -0.244493\n",
      "홍성군   -0.264990\n",
      "김해시   -0.371567\n",
      "태안군   -0.437592\n",
      "아산시   -0.532705\n",
      "강릉시   -0.538097\n",
      "당진시   -0.549688\n",
      "보령시   -0.569657\n",
      "충주시   -0.729186\n",
      "음성군   -0.816477\n",
      "서산시   -0.836303\n",
      "제천시   -0.862773\n",
      "Name: 예산군, dtype: float64\n",
      "\n",
      "'태안군'와(과) 유사한 지역:\n",
      "SGG_NM\n",
      "보령시    0.986380\n",
      "서산시    0.814737\n",
      "강릉시    0.813034\n",
      "당진시    0.796172\n",
      "제천시    0.782978\n",
      "충주시    0.777232\n",
      "아산시    0.735790\n",
      "경주시    0.672256\n",
      "김해시    0.613398\n",
      "공주시    0.002110\n",
      "음성군   -0.051036\n",
      "예산군   -0.437592\n",
      "단양군   -0.480486\n",
      "영동군   -0.508747\n",
      "청양군   -0.580863\n",
      "홍성군   -0.586253\n",
      "진천군   -0.653138\n",
      "계룡시   -0.682741\n",
      "서천군   -0.711895\n",
      "괴산군   -0.751405\n",
      "증평군   -0.777647\n",
      "옥천군   -0.815860\n",
      "보은군   -0.824770\n",
      "부여군   -0.831947\n",
      "논산시   -0.854020\n",
      "금산군   -0.867730\n",
      "Name: 태안군, dtype: float64\n",
      "\n",
      "'경주시'와(과) 유사한 지역:\n",
      "SGG_NM\n",
      "김해시    0.978800\n",
      "강릉시    0.932631\n",
      "아산시    0.921244\n",
      "당진시    0.873587\n",
      "충주시    0.815229\n",
      "보령시    0.674264\n",
      "태안군    0.672256\n",
      "서산시    0.601621\n",
      "공주시    0.510085\n",
      "제천시    0.405538\n",
      "음성군    0.110769\n",
      "예산군   -0.236258\n",
      "단양군   -0.438780\n",
      "옥천군   -0.614156\n",
      "진천군   -0.615610\n",
      "논산시   -0.741356\n",
      "서천군   -0.755740\n",
      "금산군   -0.762608\n",
      "홍성군   -0.809226\n",
      "괴산군   -0.817129\n",
      "부여군   -0.827325\n",
      "보은군   -0.829459\n",
      "영동군   -0.938058\n",
      "증평군   -0.980277\n",
      "청양군   -0.982134\n",
      "계룡시   -0.982927\n",
      "Name: 경주시, dtype: float64\n",
      "\n",
      "'김해시'와(과) 유사한 지역:\n",
      "SGG_NM\n",
      "경주시    0.978800\n",
      "아산시    0.955068\n",
      "강릉시    0.942918\n",
      "당진시    0.889599\n",
      "충주시    0.860412\n",
      "서산시    0.664250\n",
      "보령시    0.645120\n",
      "태안군    0.613398\n",
      "제천시    0.458460\n",
      "공주시    0.390145\n",
      "음성군    0.307087\n",
      "예산군   -0.371567\n",
      "진천군   -0.473901\n",
      "단양군   -0.579611\n",
      "논산시   -0.664195\n",
      "옥천군   -0.666941\n",
      "홍성군   -0.676280\n",
      "부여군   -0.764997\n",
      "금산군   -0.784115\n",
      "서천군   -0.832841\n",
      "괴산군   -0.865489\n",
      "영동군   -0.871225\n",
      "보은군   -0.871871\n",
      "계룡시   -0.930630\n",
      "청양군   -0.939934\n",
      "증평군   -0.950443\n",
      "Name: 김해시, dtype: float64\n",
      "\n",
      "'강릉시'와(과) 유사한 지역:\n",
      "SGG_NM\n",
      "아산시    0.980147\n",
      "당진시    0.972076\n",
      "충주시    0.964024\n",
      "김해시    0.942918\n",
      "경주시    0.932631\n",
      "보령시    0.844881\n",
      "서산시    0.844443\n",
      "태안군    0.813034\n",
      "제천시    0.706594\n",
      "음성군    0.291973\n",
      "공주시    0.176368\n",
      "진천군   -0.482854\n",
      "예산군   -0.538097\n",
      "홍성군   -0.644486\n",
      "단양군   -0.650114\n",
      "영동군   -0.776258\n",
      "부여군   -0.792707\n",
      "논산시   -0.821557\n",
      "옥천군   -0.856308\n",
      "청양군   -0.861742\n",
      "계룡시   -0.880022\n",
      "서천군   -0.925802\n",
      "금산군   -0.940633\n",
      "증평군   -0.943462\n",
      "보은군   -0.960429\n",
      "괴산군   -0.960958\n",
      "Name: 강릉시, dtype: float64\n"
     ]
    }
   ],
   "source": [
    "from sklearn.metrics.pairwise import cosine_similarity\n",
    "from sklearn.preprocessing import StandardScaler\n",
    "\n",
    "# 지역명을 제외한 지표만 추출\n",
    "features = df.drop(columns=['SGG_NM', 'SGGCD'])\n",
    "\n",
    "# 데이터 정규화 (스케일링)\n",
    "scaler = StandardScaler()\n",
    "features_scaled = scaler.fit_transform(features)\n",
    "\n",
    "# 코사인 유사도 계산\n",
    "similarity_matrix = cosine_similarity(features_scaled)\n",
    "\n",
    "# 유사도 데이터프레임 생성\n",
    "similarity_df = pd.DataFrame(similarity_matrix, index=df['SGG_NM'], columns=df['SGG_NM'])\n",
    "\n",
    "# 결과 출력\n",
    "print(\"유사도 매트릭스:\")\n",
    "print(similarity_df)\n",
    "\n",
    "# 각 지역과 유사한 다른 지역 찾기\n",
    "for region in df['SGG_NM']:\n",
    "    similar_regions = similarity_df[region].sort_values(ascending=False)\n",
    "    print(f\"\\n'{region}'와(과) 유사한 지역:\")\n",
    "    print(similar_regions[1:])  # 자기 자신을 제외한 상위 유사 지역"
   ],
   "metadata": {
    "collapsed": false,
    "ExecuteTime": {
     "end_time": "2024-08-24T04:35:54.418329400Z",
     "start_time": "2024-08-24T04:35:54.375025200Z"
    }
   },
   "id": "82141c9f6f8fb861"
  },
  {
   "cell_type": "code",
   "execution_count": 1,
   "outputs": [],
   "source": [
    "import requests\n",
    "import pandas as pd\n",
    "from matplotlib.pyplot import xlabel\n",
    "\n",
    "\n",
    "regions = [\n",
    "    (\"43760\", \"충청북도 괴산군\"),\n",
    "    (\"43800\", \"충청북도 단양군\"),\n",
    "    (\"43720\", \"충청북도 보은군\"),\n",
    "    (\"43740\", \"충청북도 영동군\"),\n",
    "    (\"43730\", \"충청북도 옥천군\"),\n",
    "    (\"43770\", \"충청북도 음성군\"),\n",
    "    (\"43150\", \"충청북도 제천시\"),\n",
    "    (\"43745\", \"충청북도 증평군\"),\n",
    "    (\"43750\", \"충청북도 진천군\"),\n",
    "    (\"43130\", \"충청북도 충주시\"),\n",
    "    (\"44250\", \"충청남도 계룡시\"),\n",
    "    (\"44150\", \"충청남도 공주시\"),\n",
    "    (\"44710\", \"충청남도 금산군\"),\n",
    "    (\"44230\", \"충청남도 논산시\"),\n",
    "    (\"44270\", \"충청남도 당진시\"),\n",
    "    (\"44180\", \"충청남도 보령시\"),\n",
    "    (\"44760\", \"충청남도 부여군\"),\n",
    "    (\"44210\", \"충청남도 서산시\"),\n",
    "    (\"44770\", \"충청남도 서천군\"),\n",
    "    (\"44200\", \"충청남도 아산시\"),\n",
    "    (\"44810\", \"충청남도 예산군\"),\n",
    "    (\"44790\", \"충청남도 청양군\"),\n",
    "    (\"44825\", \"충청남도 태안군\"),\n",
    "    (\"44800\", \"충청남도 홍성군\"),\n",
    "    (\"51150\", \"강원특별자치도 강릉시\"),\n",
    "    (\"47130\", \"경상북도 경주시\"),\n",
    "    (\"48250\", \"경상남도 김해시\")\n",
    "]"
   ],
   "metadata": {
    "collapsed": false,
    "ExecuteTime": {
     "end_time": "2024-08-24T04:07:01.166793Z",
     "start_time": "2024-08-24T04:07:00.220547400Z"
    }
   },
   "id": "a82bab9c3a114337"
  },
  {
   "cell_type": "code",
   "execution_count": null,
   "outputs": [],
   "source": [],
   "metadata": {
    "collapsed": false
   },
   "id": "e96b10e15a8af800"
  }
 ],
 "metadata": {
  "kernelspec": {
   "display_name": "Python 3",
   "language": "python",
   "name": "python3"
  },
  "language_info": {
   "codemirror_mode": {
    "name": "ipython",
    "version": 2
   },
   "file_extension": ".py",
   "mimetype": "text/x-python",
   "name": "python",
   "nbconvert_exporter": "python",
   "pygments_lexer": "ipython2",
   "version": "2.7.6"
  }
 },
 "nbformat": 4,
 "nbformat_minor": 5
}
